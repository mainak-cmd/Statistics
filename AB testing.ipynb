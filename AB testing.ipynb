{
 "cells": [
  {
   "cell_type": "markdown",
   "id": "003b05ca",
   "metadata": {},
   "source": [
    "A/B testing is commonly used in online marketing and user experience design to optimize website conversion rates, increase click-through rates, and improve overall user engagement. By testing different variations of a design or feature, businesses can make data-driven decisions about what changes to implement to improve performance."
   ]
  },
  {
   "cell_type": "markdown",
   "id": "cb72197d",
   "metadata": {},
   "source": [
    "The statistical tests used in A/B testing typically involve comparing the means or proportions of the two groups using techniques such as t-tests or chi-square tests. The results of the tests can help determine whether the observed differences between the groups are statistically significant or due to chance."
   ]
  },
  {
   "cell_type": "markdown",
   "id": "f5e3b28b",
   "metadata": {},
   "source": [
    "It involves randomly dividing a sample group into two groups - one group is shown the original version (control group) and the other group is shown a modified version (experimental group). The groups are then compared to see which version produces the desired outcome."
   ]
  },
  {
   "cell_type": "markdown",
   "id": "60ed4776",
   "metadata": {},
   "source": [
    "## The statistical tests"
   ]
  },
  {
   "cell_type": "markdown",
   "id": "477e5243",
   "metadata": {},
   "source": [
    "T-test: A t-test is used to compare the means of two groups. In A/B testing, a t-test can be used to determine if there is a statistically significant difference in the conversion rates of two versions of a website or app"
   ]
  },
  {
   "cell_type": "markdown",
   "id": "c47929f8",
   "metadata": {},
   "source": [
    "Chi-squared test: A chi-squared test is used to determine if there is a significant difference between the observed frequencies and the expected frequencies of categorical data. In A/B testing, a chi-squared test can be used to determine if there is a significant difference in the number of conversions between two versions of a website or app."
   ]
  },
  {
   "cell_type": "markdown",
   "id": "b50324d2",
   "metadata": {},
   "source": [
    "ANOVA: Analysis of variance (ANOVA) is a statistical test used to compare the means of three or more groups. In A/B testing, ANOVA can be used to determine if there is a significant difference in conversion rates between more than two versions of a website or app."
   ]
  },
  {
   "cell_type": "markdown",
   "id": "d67534a8",
   "metadata": {},
   "source": [
    "Bayesian analysis: Bayesian analysis is a statistical method that can be used to update the probability of a hypothesis as new data becomes available. In A/B testing, Bayesian analysis can be used to determine the probability that one version of a website or app is better than another."
   ]
  },
  {
   "cell_type": "markdown",
   "id": "2e745dca",
   "metadata": {},
   "source": [
    "Regression analysis: Regression analysis is a statistical method used to analyze the relationship between one dependent variable and one or more independent variables. In A/B testing, regression analysis can be used to determine if there is a relationship between the version of a website or app and the conversion rate."
   ]
  },
  {
   "cell_type": "markdown",
   "id": "31dfe5d4",
   "metadata": {},
   "source": [
    "### power of a statistical test"
   ]
  },
  {
   "cell_type": "markdown",
   "id": "d6efa55b",
   "metadata": {},
   "source": [
    "The power of a statistical test is the probability of correctly rejecting the null hypothesis when the alternative hypothesis is true. "
   ]
  },
  {
   "cell_type": "markdown",
   "id": "1a89912b",
   "metadata": {},
   "source": [
    "The power of a test is influenced by several factors, including the sample size, the effect size, the alpha level (significance level), and the variability of the data."
   ]
  },
  {
   "cell_type": "markdown",
   "id": "9c32af87",
   "metadata": {},
   "source": [
    " larger sample size, a larger effect size, a lower alpha level, and a lower variability of the data all increase the power of the test."
   ]
  },
  {
   "cell_type": "markdown",
   "id": "e1be9a0a",
   "metadata": {},
   "source": [
    "### T-test:"
   ]
  },
  {
   "cell_type": "markdown",
   "id": "d71f8785",
   "metadata": {},
   "source": [
    "s a statistical hypothesis test used to compare the means of two samples. It is a parametric test that assumes the data follows a normal distribution and the variance of the two groups being compared is equal."
   ]
  },
  {
   "cell_type": "markdown",
   "id": "4098adb9",
   "metadata": {},
   "source": [
    "example"
   ]
  },
  {
   "cell_type": "markdown",
   "id": "4c8a5645",
   "metadata": {},
   "source": [
    "Suppose you want to test whether a new weight loss pill is effective in helping people lose weight. You randomly select 50 overweight individuals and give the pill to 25 of them while the other 25 receive a placebo. After 8 weeks, you measure the weight loss of each individual and record the data."
   ]
  },
  {
   "cell_type": "markdown",
   "id": "9cfb9fc0",
   "metadata": {},
   "source": [
    "you can perform a t-test on the two groups' weight loss data. \n"
   ]
  },
  {
   "cell_type": "markdown",
   "id": "62047772",
   "metadata": {},
   "source": [
    "The null hypothesis is that there is no difference in weight loss between the two groups"
   ]
  },
  {
   "cell_type": "markdown",
   "id": "d1eda73b",
   "metadata": {},
   "source": [
    "The alternative hypothesis is that the weight loss pill results in more weight loss than the placebo."
   ]
  },
  {
   "cell_type": "markdown",
   "id": "b700e60a",
   "metadata": {},
   "source": [
    "The t-statistic is calculated as follows:\n",
    "t = (x̄1 - x̄2) / (s / sqrt(n))"
   ]
  },
  {
   "cell_type": "markdown",
   "id": "583418e4",
   "metadata": {},
   "source": [
    "If the t-statistic is large enough, you can reject the null hypothesis and conclude that the weight loss pill is effective. "
   ]
  },
  {
   "cell_type": "markdown",
   "id": "57377fe1",
   "metadata": {},
   "source": [
    "#### types of t test"
   ]
  },
  {
   "cell_type": "markdown",
   "id": "bdc07481",
   "metadata": {},
   "source": [
    "One-sample t-test: This type of t-test is used when a company wants to test whether a certain characteristic of a product or service meets a certain standard or benchmark."
   ]
  },
  {
   "cell_type": "markdown",
   "id": "a6877242",
   "metadata": {},
   "source": [
    "whether the mean IQ of a sample of students is significantly different from the population mean IQ of 100."
   ]
  },
  {
   "cell_type": "markdown",
   "id": "4c3b7257",
   "metadata": {},
   "source": [
    "Independent samples t-test: This type of t-test is used when a company wants to compare the performance of two groups of employees or customers, or two different products or services."
   ]
  },
  {
   "cell_type": "markdown",
   "id": "4724635b",
   "metadata": {},
   "source": [
    "Paired samples t-test: This type of t-test is used when a company wants to test whether there is a significant difference between two sets of data that are related , such as before and after measurements of a product or service."
   ]
  },
  {
   "cell_type": "markdown",
   "id": "6c219aee",
   "metadata": {},
   "source": [
    "Welch's t-test: This type of t-test is used when the variances of the two groups being compared are unequal."
   ]
  },
  {
   "cell_type": "markdown",
   "id": "af1a49ab",
   "metadata": {},
   "source": [
    "Student's t-test for equal variances: This type of t-test is used when the variances of the two groups being compared are equal."
   ]
  },
  {
   "cell_type": "markdown",
   "id": "61585b0c",
   "metadata": {},
   "source": [
    "####  T value"
   ]
  },
  {
   "cell_type": "markdown",
   "id": "6539d4ba",
   "metadata": {},
   "source": [
    "The t-value is the calculated value of the t-statistic, which measures the difference between the sample mean and the null hypothesis mean in terms of standard error units."
   ]
  },
  {
   "cell_type": "markdown",
   "id": "db609844",
   "metadata": {},
   "source": [
    "A negative t-value in a t-test indicates that the sample mean is lower than the null hypothesis mean."
   ]
  },
  {
   "cell_type": "markdown",
   "id": "086aec01",
   "metadata": {},
   "source": [
    "A large t-value indicates a strong difference between the means and provides more evidence against the null hypothesis, making it more likely to be rejected. "
   ]
  },
  {
   "cell_type": "markdown",
   "id": "e936b1a6",
   "metadata": {},
   "source": [
    "larger t-value indicates that the difference between the means is likely to have due to change process"
   ]
  },
  {
   "cell_type": "markdown",
   "id": "9701468c",
   "metadata": {},
   "source": [
    "A small t-value indicates a weaker difference between the means and may not provide enough evidence to reject the null hypothesis."
   ]
  },
  {
   "cell_type": "markdown",
   "id": "d42d3935",
   "metadata": {},
   "source": [
    "A small t-value, on the other hand, suggests that the difference between the means may be due to chance and is not statistically significant."
   ]
  },
  {
   "cell_type": "markdown",
   "id": "3d425535",
   "metadata": {},
   "source": [
    "As the t-value increases, the critical value decreases, making it easier to reject the null hypothesis."
   ]
  },
  {
   "cell_type": "markdown",
   "id": "341be7d0",
   "metadata": {},
   "source": [
    "### degrees of freedom"
   ]
  },
  {
   "cell_type": "markdown",
   "id": "cb4cb4b7",
   "metadata": {},
   "source": [
    "The degrees of freedom (df) is a measure of the amount of information available in the data. It is calculated as n-1, where n is the sample size. In this case, the df value is 19."
   ]
  },
  {
   "cell_type": "markdown",
   "id": "51c3e93f",
   "metadata": {},
   "source": [
    "As the degrees of freedom increase, the t-distribution becomes narrower and more concentrated around the mean making it easier to reject the null hypothesis even for small differences."
   ]
  },
  {
   "cell_type": "markdown",
   "id": "77038464",
   "metadata": {},
   "source": [
    "### p-value"
   ]
  },
  {
   "cell_type": "markdown",
   "id": "fd6c9281",
   "metadata": {},
   "source": [
    "p-value = 0.096: The p-value is the probability of obtaining a t-value as extreme or more extreme than the observed t-value, assuming that the null hypothesis is true. In this case, the p-value is 0.096, which is greater than the typical significance level of 0.05. This means that we can not support alternative hypothisis."
   ]
  },
  {
   "cell_type": "markdown",
   "id": "23fd1edc",
   "metadata": {},
   "source": [
    "9.6 % probability of both groups are similar where they have a difference that is very low so we can state null hypothisis is require."
   ]
  },
  {
   "cell_type": "markdown",
   "id": "5af8572c",
   "metadata": {},
   "source": [
    "The level of significance is typically set to a value between 0 and 1, and represents the maximum probability of rejecting the null hypothesis when it is actually true."
   ]
  },
  {
   "cell_type": "markdown",
   "id": "ed375d80",
   "metadata": {},
   "source": [
    " A commonly used level of significance in scientific research is 0.05, which indicates a 5% probability of rejecting the null hypothesis when it is actually true."
   ]
  },
  {
   "cell_type": "markdown",
   "id": "fb1a8c3c",
   "metadata": {},
   "source": [
    "In R, you can conduct a t-test by using the t.test() function. To set the p-value for the test, you can use the conf.level argument, which specifies the confidence level of the interval. By default, this argument is set to conf.level = 0.95, which corresponds to a two-tailed test with a significance level of alpha = 0.05."
   ]
  },
  {
   "cell_type": "markdown",
   "id": "74719424",
   "metadata": {},
   "source": [
    " ##### large t-value with a small degrees of freedom and a low level of significance (i.e., high p-value) may not be sufficient to reject the null hypothesis."
   ]
  },
  {
   "cell_type": "markdown",
   "id": "6434ceae",
   "metadata": {},
   "source": [
    "####  small t-value with a large degrees of freedom and a high level of significance (i.e., a low p-value) can provide enough evidence to reject the null hypothesis "
   ]
  },
  {
   "cell_type": "markdown",
   "id": "13969f36",
   "metadata": {},
   "source": [
    "#### One-sample t-test"
   ]
  },
  {
   "cell_type": "markdown",
   "id": "ced05b36",
   "metadata": {},
   "source": [
    "Suppose you have a sample of 20 observations, and you want to test whether the mean of the sample is significantly different from a population mean of 50."
   ]
  },
  {
   "cell_type": "code",
   "execution_count": 1,
   "id": "c087552c",
   "metadata": {},
   "outputs": [
    {
     "data": {
      "text/html": [
       "653.5"
      ],
      "text/latex": [
       "653.5"
      ],
      "text/markdown": [
       "653.5"
      ],
      "text/plain": [
       "[1] 653.5"
      ]
     },
     "metadata": {},
     "output_type": "display_data"
    },
    {
     "data": {
      "text/plain": [
       "\n",
       "\tOne Sample t-test\n",
       "\n",
       "data:  data\n",
       "t = 1.086, df = 19, p-value = 0.2911\n",
       "alternative hypothesis: true mean is not equal to 50\n",
       "95 percent confidence interval:\n",
       " -509.6148 1816.6148\n",
       "sample estimates:\n",
       "mean of x \n",
       "    653.5 \n"
      ]
     },
     "metadata": {},
     "output_type": "display_data"
    }
   ],
   "source": [
    "data <- c(5, 48, 52, 47, 12, 10, 53, 54, 47, 50, 1239, 46, 4, 0, 49, 52, 51, 48, 11150, 53)\n",
    "mean <- mean(data);mean\n",
    "sd <- sd(data)\n",
    "t.test(data, mu = 50)\n",
    "#The mu argument specifies the population mean to be tested against. "
   ]
  },
  {
   "cell_type": "markdown",
   "id": "d0d5b778",
   "metadata": {},
   "source": [
    "As P low null go so p-value, The p-value in this example is 0.002786, which is less than the typical significance level of 0.05, indicating that the sample mean is significantly different from the population mean of 50.(alternative hypothesis: true mean is not equal to 50)"
   ]
  },
  {
   "cell_type": "markdown",
   "id": "c5db8a26",
   "metadata": {},
   "source": [
    "### Independent samples t-test"
   ]
  },
  {
   "cell_type": "markdown",
   "id": "a53c66a3",
   "metadata": {},
   "source": [
    "Suppose you have two groups of data, and you want to test whether the means of the two groups are significantly different. Let's call the groups \"Group 1\" and \"Group 2\"."
   ]
  },
  {
   "cell_type": "code",
   "execution_count": 7,
   "id": "a087bb28",
   "metadata": {},
   "outputs": [
    {
     "data": {
      "text/plain": [
       "\n",
       "\tWelch Two Sample t-test\n",
       "\n",
       "data:  group1 and group2\n",
       "t = -1.7002, df = 10.828, p-value = 0.9412\n",
       "alternative hypothesis: true difference in means is greater than 0\n",
       "95 percent confidence interval:\n",
       " -7.819783       Inf\n",
       "sample estimates:\n",
       "mean of x mean of y \n",
       "      9.0      12.8 \n"
      ]
     },
     "metadata": {},
     "output_type": "display_data"
    }
   ],
   "source": [
    "group1 <- c(10, 12, 14, 6, 18,4,5,6,6)\n",
    "group2 <- c(8, 11, 13, 15, 17)\n",
    "t.test(group1, group2,alternative = \"greater\", conf.level = 0.95)"
   ]
  },
  {
   "cell_type": "markdown",
   "id": "e5fc3970",
   "metadata": {},
   "source": [
    "In this example, mu is the hypothesized mean, alternative specifies the alternative hypothesis, and conf.level is set to 0.99 to achieve a p-value of 0.01."
   ]
  },
  {
   "cell_type": "code",
   "execution_count": 6,
   "id": "fd2ac70c",
   "metadata": {},
   "outputs": [
    {
     "data": {
      "text/html": [
       "0.05"
      ],
      "text/latex": [
       "0.05"
      ],
      "text/markdown": [
       "0.05"
      ],
      "text/plain": [
       "[1] 0.05"
      ]
     },
     "metadata": {},
     "output_type": "display_data"
    }
   ],
   "source": [
    "1 - 0.95"
   ]
  },
  {
   "cell_type": "markdown",
   "id": "720e1df8",
   "metadata": {},
   "source": [
    "alternative hypothesis: true difference in means is not equal to 0"
   ]
  },
  {
   "cell_type": "markdown",
   "id": "d626d1a4",
   "metadata": {},
   "source": [
    "The p-value in this example is 0.1176, which is greater than the typical significance level of 0.05, indicating that there is not enough evidence to reject the null hypothesis that the means of the two groups are equal."
   ]
  },
  {
   "cell_type": "markdown",
   "id": "fe2406f4",
   "metadata": {},
   "source": [
    "### Paired samples t-test"
   ]
  },
  {
   "cell_type": "code",
   "execution_count": null,
   "id": "1b07d472",
   "metadata": {},
   "outputs": [],
   "source": [
    "Suppose we have the following dataset representing the weights of 10 individuals before and after a weight loss program"
   ]
  },
  {
   "cell_type": "code",
   "execution_count": 10,
   "id": "ed6e7e88",
   "metadata": {},
   "outputs": [],
   "source": [
    "before <- c(150, 160, 170, 180, 190, 200, 210, 220, 230, 240)\n",
    "after <- c(125, 105, 16, 175, 185, 195, 25, 25, 225, 25)\n"
   ]
  },
  {
   "cell_type": "markdown",
   "id": "824d3c79",
   "metadata": {},
   "source": [
    "To conduct a paired samples t-test to determine if there is a significant difference in weight before and after the weight loss program"
   ]
  },
  {
   "cell_type": "code",
   "execution_count": 12,
   "id": "0b40e727",
   "metadata": {},
   "outputs": [
    {
     "data": {
      "text/plain": [
       "\n",
       "\tPaired t-test\n",
       "\n",
       "data:  before and after\n",
       "t = 2.9636, df = 9, p-value = 0.007933\n",
       "alternative hypothesis: true difference in means is greater than 0\n",
       "98 percent confidence interval:\n",
       " 16.19077      Inf\n",
       "sample estimates:\n",
       "mean of the differences \n",
       "                   84.9 \n"
      ]
     },
     "metadata": {},
     "output_type": "display_data"
    }
   ],
   "source": [
    "t.test(before, after, paired = TRUE,alternative = \"greater\", conf.level = 0.98)"
   ]
  },
  {
   "cell_type": "markdown",
   "id": "af8c06a0",
   "metadata": {},
   "source": [
    "The p-value of 0.007933 indicates that there is a significant difference between the heights before and after the treatment at a 0.05 level of significance"
   ]
  },
  {
   "cell_type": "markdown",
   "id": "f0d49929",
   "metadata": {},
   "source": [
    "### Welch's t-test:"
   ]
  },
  {
   "cell_type": "code",
   "execution_count": null,
   "id": "a8bd7745",
   "metadata": {},
   "outputs": [],
   "source": [
    "Suppose we have two independent datasets, representing the heights of two groups of individuals:"
   ]
  },
  {
   "cell_type": "code",
   "execution_count": 14,
   "id": "fad41ed0",
   "metadata": {},
   "outputs": [],
   "source": [
    "group1 <- c(170, 165, 172, 177, 168, 180, 175, 170, 174, 169)\n",
    "group2 <- c(180, 172, 178, 173, 186, 168, 175, 182, 170, 179, 180, 177, 183)"
   ]
  },
  {
   "cell_type": "markdown",
   "id": "507445b5",
   "metadata": {},
   "source": [
    "To conduct Welch's t-test to determine if there is a significant difference in height between the two groups, "
   ]
  },
  {
   "cell_type": "code",
   "execution_count": 14,
   "id": "cbc2601a",
   "metadata": {},
   "outputs": [
    {
     "data": {
      "text/plain": [
       "\n",
       "\tWelch Two Sample t-test\n",
       "\n",
       "data:  group1 and group2\n",
       "t = -1.7002, df = 10.828, p-value = 0.9412\n",
       "alternative hypothesis: true difference in means is greater than 0\n",
       "95 percent confidence interval:\n",
       " -7.819783       Inf\n",
       "sample estimates:\n",
       "mean of x mean of y \n",
       "      9.0      12.8 \n"
      ]
     },
     "metadata": {},
     "output_type": "display_data"
    }
   ],
   "source": [
    "# Conduct Welch's t-test\n",
    "t.test(group1, group2, var.equal = FALSE,alternative = \"greater\", conf.level = 0.95)"
   ]
  },
  {
   "cell_type": "markdown",
   "id": "52ceba9e",
   "metadata": {},
   "source": [
    " The confidence interval of (-6.4913389, 0.5913389) indicates that the true difference in means could range from negative to positive values, but includes 0, which supports the conclusion that there is no significant difference between the two groups."
   ]
  },
  {
   "cell_type": "markdown",
   "id": "b8810555",
   "metadata": {},
   "source": [
    "The p-value of 0.07996 indicates that there is not a significant difference in height between the two groups at a 0.05 level of significance."
   ]
  },
  {
   "cell_type": "markdown",
   "id": "1641f913",
   "metadata": {},
   "source": [
    "### Student's t-test for equal variances:"
   ]
  },
  {
   "cell_type": "code",
   "execution_count": 15,
   "id": "f3ca5eb3",
   "metadata": {},
   "outputs": [
    {
     "data": {
      "text/plain": [
       "\n",
       "\tTwo Sample t-test\n",
       "\n",
       "data:  group1 and group2\n",
       "t = 0.85661, df = 18, p-value = 0.4029\n",
       "alternative hypothesis: true difference in means is not equal to 0\n",
       "95 percent confidence interval:\n",
       " -1.016825  2.416825\n",
       "sample estimates:\n",
       "mean of x mean of y \n",
       "     12.2      11.5 \n"
      ]
     },
     "metadata": {},
     "output_type": "display_data"
    }
   ],
   "source": [
    "# Create example data\n",
    "group1 <- c(9, 12, 13, 15, 11, 10, 14, 11, 15, 12)\n",
    "group2 <- c(10, 9, 11, 13, 12, 10, 14, 13, 11, 12)\n",
    "result <- t.test(group1, group2, var.equal = TRUE,conf.level = 0.95);result\n"
   ]
  },
  {
   "cell_type": "markdown",
   "id": "3ef78ead",
   "metadata": {},
   "source": [
    "We can see that the t-statistic is -0.70711 and the p-value is 0.4895. Because the p-value is greater than our chosen significance level (let's say 0.05), we fail to reject the null hypothesis that the true means of the two groups are equa"
   ]
  },
  {
   "cell_type": "markdown",
   "id": "2a6ac791",
   "metadata": {},
   "source": [
    "#### Guide"
   ]
  },
  {
   "cell_type": "markdown",
   "id": "e40c6bf7",
   "metadata": {},
   "source": [
    "In hypothesis testing, we compare the p-value at the significance level (alpha) to determine whether to reject or fail to reject the null hypothesis."
   ]
  },
  {
   "cell_type": "code",
   "execution_count": null,
   "id": "06ad2ecf",
   "metadata": {},
   "outputs": [],
   "source": []
  },
  {
   "cell_type": "markdown",
   "id": "b20d89e4",
   "metadata": {},
   "source": [
    "### Powe of test two-sample t-test"
   ]
  },
  {
   "cell_type": "markdown",
   "id": "5bf09dcc",
   "metadata": {},
   "source": [
    "The power of a t-test is the probability of correctly rejecting the null hypothesis when the alternative hypothesis is true."
   ]
  },
  {
   "cell_type": "code",
   "execution_count": 17,
   "id": "71d3ce1d",
   "metadata": {},
   "outputs": [
    {
     "data": {
      "text/plain": [
       "\n",
       "     Two-sample t test power calculation \n",
       "\n",
       "              n = 50\n",
       "          delta = 0.5\n",
       "             sd = 1\n",
       "      sig.level = 0.05\n",
       "          power = 0.6968888\n",
       "    alternative = two.sided\n",
       "\n",
       "NOTE: n is number in *each* group\n"
      ]
     },
     "metadata": {},
     "output_type": "display_data"
    }
   ],
   "source": [
    "power.t.test(n = 50, delta = 0.5, sd = 1, sig.level = 0.05, power = NULL)"
   ]
  },
  {
   "cell_type": "markdown",
   "id": "87db81b1",
   "metadata": {},
   "source": [
    "n: the sample size for each group\n",
    "\n"
   ]
  },
  {
   "cell_type": "markdown",
   "id": "77f6edda",
   "metadata": {},
   "source": [
    "delta: the effect size (difference between means divided by the standard deviation) :The effect size is a quantitative measure of the magnitude or strength of the relationship between two variables or the difference between two groups in a study."
   ]
  },
  {
   "cell_type": "markdown",
   "id": "314386a4",
   "metadata": {},
   "source": [
    "Cohen's d: This is a standardized measure of the difference between the means of two groups, expressed in terms of the pooled standard deviation. It is commonly used for comparing the means of two groups in a t-test or ANOVA."
   ]
  },
  {
   "cell_type": "code",
   "execution_count": null,
   "id": "e858afa3",
   "metadata": {},
   "outputs": [],
   "source": [
    "sd: the standard deviation of the data"
   ]
  },
  {
   "cell_type": "code",
   "execution_count": null,
   "id": "0dc1332f",
   "metadata": {},
   "outputs": [],
   "source": [
    "sig.level: the significance level (alpha)"
   ]
  },
  {
   "cell_type": "code",
   "execution_count": null,
   "id": "dade3183",
   "metadata": {},
   "outputs": [],
   "source": [
    "power: the desired power (default is 0.8)"
   ]
  },
  {
   "cell_type": "markdown",
   "id": "615e5be2",
   "metadata": {},
   "source": [
    "\n",
    "## Chi-squared test:"
   ]
  },
  {
   "cell_type": "markdown",
   "id": "bc62f1b8",
   "metadata": {},
   "source": [
    "The chi-squared test is a statistical test used to determine if there is a significant association between two categorical variables. It is used to analyze count data, which is data that can be organized into categories and has a numerical value associated with each category. The test compares the observed frequencies of the categories with the expected frequencies under the assumption of no association between the variables."
   ]
  },
  {
   "cell_type": "markdown",
   "id": "5c4d9dbc",
   "metadata": {},
   "source": [
    "chi-squared tests use the chi-squared distribution to calculate the p-value. The chi-squared distribution is a probability distribution that is used to model the sum of squared deviations of a set of normally distributed variables. "
   ]
  },
  {
   "cell_type": "markdown",
   "id": "4a171a78",
   "metadata": {},
   "source": [
    "This test is used to test the variance of a normally distributed population. "
   ]
  },
  {
   "cell_type": "markdown",
   "id": "eb9554b7",
   "metadata": {},
   "source": [
    "This test can be used to test whether there is a relationship between two categorical variables, including proportions."
   ]
  },
  {
   "cell_type": "markdown",
   "id": "1b3f13a4",
   "metadata": {},
   "source": [
    "This test is used to determine if there is a significant difference between the observed and expected frequencies of a categorical variable."
   ]
  },
  {
   "cell_type": "markdown",
   "id": "7f4c3339",
   "metadata": {},
   "source": [
    "This test can be used to test for randomness in a sequence of categorical data (i.e. data that takes on more than two values)."
   ]
  },
  {
   "cell_type": "markdown",
   "id": "743a637f",
   "metadata": {},
   "source": [
    "### types of Chi-squared test"
   ]
  },
  {
   "cell_type": "markdown",
   "id": "a89d77f8",
   "metadata": {},
   "source": [
    "Goodness-of-fit test:\n",
    "The goodness-of-fit test is used to determine if an observed frequency distribution fits a theoretical or expected frequency distribution."
   ]
  },
  {
   "cell_type": "markdown",
   "id": "7601c8e5",
   "metadata": {},
   "source": [
    "This type of test is often used to determine if a sample of data comes from a population with a specific distribution."
   ]
  },
  {
   "cell_type": "markdown",
   "id": "b15fcb54",
   "metadata": {},
   "source": [
    "The test of independence : is used to determine if there is a significant association between two categorical variables."
   ]
  },
  {
   "cell_type": "markdown",
   "id": "42cd3114",
   "metadata": {},
   "source": [
    "This type of test is often used to analyze data from a contingency table,"
   ]
  },
  {
   "cell_type": "markdown",
   "id": "f36292cb",
   "metadata": {},
   "source": [
    "table that summarizes the frequencies of the different combinations of categories of the two variables."
   ]
  },
  {
   "cell_type": "markdown",
   "id": "1aada26f",
   "metadata": {},
   "source": [
    "### X-squarae"
   ]
  },
  {
   "cell_type": "markdown",
   "id": "1ccc2b38",
   "metadata": {},
   "source": [
    "In the context of a chi-squared test, the X-squared (χ²) value is a statistic that measures the difference between the expected frequencies and the observed frequencies in a contingency table."
   ]
  },
  {
   "cell_type": "markdown",
   "id": "dc7266a1",
   "metadata": {},
   "source": [
    "##### observed frequencies"
   ]
  },
  {
   "cell_type": "markdown",
   "id": "c4e71eab",
   "metadata": {},
   "source": [
    "The observed frequencies are the actual frequencies of occurrence of a categorical variable in a sample or population. For example, if you conducted a survey asking people to indicate their favorite color, the observed frequencies would be the number of responses in each category, such as red, blue, green, etc.\n",
    "\n"
   ]
  },
  {
   "cell_type": "markdown",
   "id": "fa826e6f",
   "metadata": {},
   "source": [
    "##### expected frequencies "
   ]
  },
  {
   "cell_type": "markdown",
   "id": "ce11e0fd",
   "metadata": {},
   "source": [
    "The expected frequencies are the frequencies that would be expected to occur in each category of a categorical variable under a specific theoretical distribution or null hypothesis. For example, if you were testing whether the distribution of favorite colors in a population follows a uniform distribution"
   ]
  },
  {
   "cell_type": "markdown",
   "id": "2b70f7f2",
   "metadata": {},
   "source": [
    "In general, a larger X-squared value indicates a greater deviation between the observed and expected frequencies, which may be evidence against the null hypothesis."
   ]
  },
  {
   "cell_type": "markdown",
   "id": "ee57dac6",
   "metadata": {},
   "source": [
    " is calculated as the sum of the squared differences between the observed and expected frequencies, divided by the expected frequencies."
   ]
  },
  {
   "cell_type": "markdown",
   "id": "9dedb7c2",
   "metadata": {},
   "source": [
    "The X-squared value is then compared to a critical value from the chi-squared distribution with a certain number of degrees of freedom (df)."
   ]
  },
  {
   "cell_type": "markdown",
   "id": "d0d81474",
   "metadata": {},
   "source": [
    "#### DOF"
   ]
  },
  {
   "cell_type": "markdown",
   "id": "c9cce3ab",
   "metadata": {},
   "source": [
    "The degrees of freedom for a chi-squared test depend on the number of rows and columns in the contingency table, and are calculated as (number of rows - 1) * (number of columns - 1)."
   ]
  },
  {
   "cell_type": "markdown",
   "id": "1c3373b5",
   "metadata": {},
   "source": [
    "If the X-squared value is greater than the critical value from the chi-squared distribution, we reject the null hypothesis and conclude that there is a significant difference between the expected frequencies and the observed frequencies. "
   ]
  },
  {
   "cell_type": "markdown",
   "id": "d2c43ee3",
   "metadata": {},
   "source": [
    "#### p-value"
   ]
  },
  {
   "cell_type": "markdown",
   "id": "4a091236",
   "metadata": {},
   "source": [
    "The p-value associated with the X-squared value and degrees of freedom can also be used to determine the level of significance of the test."
   ]
  },
  {
   "cell_type": "markdown",
   "id": "8ef07c6a",
   "metadata": {},
   "source": [
    "### Goodness-of-fit test chi square"
   ]
  },
  {
   "cell_type": "markdown",
   "id": "dffca74c",
   "metadata": {},
   "source": [
    "The chi-square goodness-of-fit test is based on the chi-square distribution, which is a continuous probability distribution that arises in the context of hypothesis testing."
   ]
  },
  {
   "cell_type": "code",
   "execution_count": 50,
   "id": "5e9d27fb",
   "metadata": {},
   "outputs": [],
   "source": [
    "observed_counts<- c(24, 35, 566)"
   ]
  },
  {
   "cell_type": "markdown",
   "id": "7ad97ea7",
   "metadata": {},
   "source": [
    "We want to test whether these observed counts follow a uniform distribution, where each category has an equal probability of occurring. The expected counts for a uniform distribution can be calculated as:"
   ]
  },
  {
   "cell_type": "code",
   "execution_count": 51,
   "id": "4bdeac05",
   "metadata": {},
   "outputs": [],
   "source": [
    "expected_probs <- c(0.2, 0.3, 0.5)"
   ]
  },
  {
   "cell_type": "code",
   "execution_count": 52,
   "id": "a02226f2",
   "metadata": {},
   "outputs": [
    {
     "data": {
      "text/html": [
       "1"
      ],
      "text/latex": [
       "1"
      ],
      "text/markdown": [
       "1"
      ],
      "text/plain": [
       "[1] 1"
      ]
     },
     "metadata": {},
     "output_type": "display_data"
    }
   ],
   "source": [
    "sum(0.1, 0.4, 0.5)"
   ]
  },
  {
   "cell_type": "code",
   "execution_count": 53,
   "id": "baf996da",
   "metadata": {},
   "outputs": [
    {
     "data": {
      "text/plain": [
       "\n",
       "\tChi-squared test for given probabilities\n",
       "\n",
       "data:  observed_counts\n",
       "X-squared = 411.28, df = 2, p-value < 2.2e-16\n"
      ]
     },
     "metadata": {},
     "output_type": "display_data"
    }
   ],
   "source": [
    "chisq.test(observed_counts, p = expected_probs)"
   ]
  },
  {
   "cell_type": "markdown",
   "id": "ed15a7b1",
   "metadata": {},
   "source": [
    "X-squared: In a chi-square goodness-of-fit test, the X-squared statistic is used to test whether a set of observed categorical data is consistent with a specified theoretical distribution."
   ]
  },
  {
   "cell_type": "markdown",
   "id": "e07d5143",
   "metadata": {},
   "source": [
    "This result indicates that the observed frequencies in the data do not differ significantly from the expected frequencies under the null hypothesis. A p-value of 1 means that there is no evidence to reject the null hypothesis and we can conclude that the observed frequencies are consistent with the expected frequencies."
   ]
  },
  {
   "cell_type": "markdown",
   "id": "872436ff",
   "metadata": {},
   "source": [
    "If the p-value of a chi-squared goodness-of-fit test in R is greater than 0.05, it means that we fail to reject the null hypothesis"
   ]
  },
  {
   "cell_type": "markdown",
   "id": "c213943d",
   "metadata": {},
   "source": [
    "### Note"
   ]
  },
  {
   "cell_type": "markdown",
   "id": "723be0bd",
   "metadata": {},
   "source": [
    "It's important to note that the X-squared value should not be used in isolation to interpret the results of a chi-squared goodness-of-fit test. It should be used in conjunction with the p-value, degrees of freedom, and effect size"
   ]
  },
  {
   "cell_type": "markdown",
   "id": "6e7e6b1f",
   "metadata": {},
   "source": [
    "### The test of independence "
   ]
  },
  {
   "cell_type": "markdown",
   "id": "ce0fb083",
   "metadata": {},
   "source": [
    "contingency table"
   ]
  },
  {
   "cell_type": "markdown",
   "id": "0d2279b8",
   "metadata": {},
   "source": [
    "A contingency table is a table that displays the frequencies of two or more categorical variables in a cross-tabulated format. The table is used to summarize the relationship between the variables and provides a way to visualize the distribution of observations across the categories."
   ]
  },
  {
   "cell_type": "code",
   "execution_count": 54,
   "id": "43652c16",
   "metadata": {},
   "outputs": [
    {
     "ename": "ERROR",
     "evalue": "Error in table(gender, voting_preference): object 'gender' not found\n",
     "output_type": "error",
     "traceback": [
      "Error in table(gender, voting_preference): object 'gender' not found\nTraceback:\n",
      "1. table(gender, voting_preference)"
     ]
    }
   ],
   "source": [
    "# Create a contingency table of observed frequencies\n",
    "observed <- table(gender, voting_preference)"
   ]
  },
  {
   "cell_type": "code",
   "execution_count": 57,
   "id": "0d52a43f",
   "metadata": {},
   "outputs": [],
   "source": [
    "mydata <- data.frame(\n",
    "                     gender = c(\"Male\",\"Female\", \"Male\", \"Female\",\"Male\", \"Female\",\"Male\"),\n",
    "                     looks = c(\"sexy\", \"notsexy\", \"agly\",\"sexy\",\"sexy\", \"not sexy\",\"agly\"))"
   ]
  },
  {
   "cell_type": "code",
   "execution_count": 59,
   "id": "3b922d93",
   "metadata": {},
   "outputs": [
    {
     "data": {
      "text/plain": [
       "        \n",
       "         agly not sexy sexy\n",
       "  Female    0        2    1\n",
       "  Male      2        0    2"
      ]
     },
     "metadata": {},
     "output_type": "display_data"
    }
   ],
   "source": [
    "mytable <- table(mydata$gender, mydata$looks);mytable"
   ]
  },
  {
   "cell_type": "code",
   "execution_count": 61,
   "id": "75987384",
   "metadata": {},
   "outputs": [
    {
     "name": "stderr",
     "output_type": "stream",
     "text": [
      "Warning message in chisq.test(mytable):\n",
      "\"Chi-squared approximation may be incorrect\"\n"
     ]
    },
    {
     "data": {
      "text/plain": [
       "\n",
       "\tPearson's Chi-squared test\n",
       "\n",
       "data:  mytable\n",
       "X-squared = 4.2778, df = 2, p-value = 0.1178\n"
      ]
     },
     "metadata": {},
     "output_type": "display_data"
    }
   ],
   "source": [
    "# Perform the chi-squared test of independence\n",
    "result <- chisq.test(mytable);result "
   ]
  },
  {
   "cell_type": "markdown",
   "id": "9c1ccf08",
   "metadata": {},
   "source": [
    " In a chi-square test of independence, the X-squared statistic is used to test whether two categorical variables are independent of each other."
   ]
  },
  {
   "cell_type": "code",
   "execution_count": null,
   "id": "4dc3e997",
   "metadata": {},
   "outputs": [],
   "source": [
    "No enough evidance found to reject null hypotisis ,two categorical values are independent "
   ]
  },
  {
   "cell_type": "markdown",
   "id": "d1fc300c",
   "metadata": {},
   "source": [
    "### Powe of X-squared"
   ]
  },
  {
   "cell_type": "code",
   "execution_count": null,
   "id": "4efc46e4",
   "metadata": {},
   "outputs": [],
   "source": [
    "(tomorrow)"
   ]
  },
  {
   "cell_type": "code",
   "execution_count": 6,
   "id": "42ce5d2c",
   "metadata": {},
   "outputs": [
    {
     "ename": "ERROR",
     "evalue": "Error in pwr.chisq.test(w = effect.size, df = df, sig.level = alpha): exactly one of w, N, df, power, and sig.level must be NULL\n",
     "output_type": "error",
     "traceback": [
      "Error in pwr.chisq.test(w = effect.size, df = df, sig.level = alpha): exactly one of w, N, df, power, and sig.level must be NULL\nTraceback:\n",
      "1. pwr.chisq.test(w = effect.size, df = df, sig.level = alpha)",
      "2. stop(\"exactly one of w, N, df, power, and sig.level must be NULL\")"
     ]
    }
   ],
   "source": [
    " effect.size <- 0.3\n",
    "df <- 1\n",
    "alpha <- 0.05\n",
    "\n",
    "# Calculate the sample size or power using the pwr.chisq.test() function\n",
    "library(pwr)\n",
    "result <- pwr.chisq.test(w = effect.size, df = df, sig.level = alpha)\n",
    "result\n"
   ]
  },
  {
   "cell_type": "code",
   "execution_count": null,
   "id": "cfd1f9c7",
   "metadata": {},
   "outputs": [],
   "source": []
  },
  {
   "cell_type": "code",
   "execution_count": null,
   "id": "78e85b8f",
   "metadata": {},
   "outputs": [],
   "source": [
    "######Tomorrow##############################################################"
   ]
  },
  {
   "cell_type": "markdown",
   "id": "eeb73710",
   "metadata": {},
   "source": [
    "### ANOVA"
   ]
  },
  {
   "cell_type": "markdown",
   "id": "1ccc3fed",
   "metadata": {},
   "source": [
    "Analysis of variance (ANOVA) is a statistical test used to compare the means of three or more groups."
   ]
  },
  {
   "cell_type": "markdown",
   "id": "4be7eb2d",
   "metadata": {},
   "source": [
    "### Types of Anova"
   ]
  },
  {
   "cell_type": "markdown",
   "id": "de2e8b70",
   "metadata": {},
   "source": [
    "One-Way ANOVA: This type of ANOVA is used to compare the means of three or more independent groups. One-way ANOVA examines only one independent variable (factor) at a time."
   ]
  },
  {
   "cell_type": "markdown",
   "id": "23cf7078",
   "metadata": {},
   "source": [
    "Suppose a company wants to compare the productivity of its employees across three different departments. The company has collected data on the number of tasks completed by each employee in each department over a week."
   ]
  },
  {
   "cell_type": "markdown",
   "id": "24ca1515",
   "metadata": {},
   "source": [
    "Two-Way ANOVA: This type of ANOVA is used to examine the effects of two independent variables (factors) on a dependent variable. For example, if we want to test the effect of both gender and age on a test score, we can use a two-way ANOVA."
   ]
  },
  {
   "cell_type": "markdown",
   "id": "f72b31c0",
   "metadata": {},
   "source": [
    "MANOVA (Multivariate Analysis of Variance): This type of ANOVA is used when we have two or more dependent variables."
   ]
  },
  {
   "cell_type": "markdown",
   "id": "e3e070b8",
   "metadata": {},
   "source": [
    " Unlike ANOVA, which analyzes only one dependent variable at a time, MANOVA analyzes multiple dependent variables simultaneously."
   ]
  },
  {
   "cell_type": "markdown",
   "id": "70d60cbe",
   "metadata": {},
   "source": [
    "Suppose a pharmaceutical company wants to compare the effectiveness of three different drugs on two different measures: blood pressure and heart rate. The company has collected data on these two measures for each patient in each drug group."
   ]
  },
  {
   "cell_type": "markdown",
   "id": "4d504c41",
   "metadata": {},
   "source": [
    "Repeated Measures ANOVA: This type of ANOVA is used when we have repeated measures of the same group. For example, if we want to test the effect of a drug on blood pressure over time, we can use a repeated measures ANOVA."
   ]
  },
  {
   "cell_type": "markdown",
   "id": "575ab636",
   "metadata": {},
   "source": [
    " It is used to test the effects of an independent variable on a dependent variable over time or under different conditions."
   ]
  },
  {
   "cell_type": "markdown",
   "id": "7ecbc784",
   "metadata": {},
   "source": [
    "Mixed-Effects ANOVA: This type of ANOVA is used when we have both fixed and random effects. Fixed effects are variables that we are interested in studying, while random effects are variables that are not of primary interest but are included in the analysis to account for variability in the data."
   ]
  },
  {
   "cell_type": "markdown",
   "id": "9df672d1",
   "metadata": {},
   "source": [
    "the researcher would recruit employees from different departments in a company and randomly assign them to either a training group or a control group. The researcher would measure the employees' job satisfaction levels before and after the training program and collect data on the employees' department affiliation."
   ]
  },
  {
   "cell_type": "markdown",
   "id": "05b8bcee",
   "metadata": {},
   "source": [
    "### Imporrtant terminology"
   ]
  },
  {
   "cell_type": "markdown",
   "id": "205fe17b",
   "metadata": {},
   "source": [
    "#### Variability in the data"
   ]
  },
  {
   "cell_type": "markdown",
   "id": "e28206f0",
   "metadata": {},
   "source": [
    "Variability in the data refers to the extent to which the values or measurements in a dataset differ from each other."
   ]
  },
  {
   "cell_type": "markdown",
   "id": "6e02da94",
   "metadata": {},
   "source": [
    "Variability can arise due to various reasons, such as measurement error, sampling variation, or true differences in the underlying population"
   ]
  },
  {
   "cell_type": "markdown",
   "id": "a7d9c530",
   "metadata": {},
   "source": [
    "In statistical analysis, variability is often measured using measures such as variance, standard deviation, or rang"
   ]
  },
  {
   "cell_type": "markdown",
   "id": "cd93a6bd",
   "metadata": {},
   "source": [
    "In ANOVA, the variability in the outcome variable is partitioned into two components: the variability between the groups and the variability within the groups."
   ]
  },
  {
   "cell_type": "markdown",
   "id": "d40f42c3",
   "metadata": {},
   "source": [
    "### variance between groups (group)"
   ]
  },
  {
   "cell_type": "markdown",
   "id": "66d467ae",
   "metadata": {},
   "source": [
    "The variance between groups, also known as the between-group variance or the explained variance,"
   ]
  },
  {
   "cell_type": "markdown",
   "id": "9e31e16d",
   "metadata": {},
   "source": [
    "The variance between groups is calculated as the sum of squares for the group variable (SS_group) divided by its degrees of freedom (df_group)"
   ]
  },
  {
   "cell_type": "markdown",
   "id": "2328bbe3",
   "metadata": {},
   "source": [
    "###### sum of squares for the group variable and degrees of freedom (df_group)"
   ]
  },
  {
   "cell_type": "markdown",
   "id": "3fe1415c",
   "metadata": {},
   "source": [
    "The sum of squares for the group variable is the sum of the squared deviations of each group mean from the overall mean, weighted by the sample size of each group"
   ]
  },
  {
   "cell_type": "markdown",
   "id": "cb53fe26",
   "metadata": {},
   "source": [
    "The purpose of weighting the squared deviations by the sample size of each group is to give more weight to groups with larger sample sizes, as they are likely to be more representative of the population.This weighting ensures that the estimate of the variance between groups is more accurate and less influenced by small groups."
   ]
  },
  {
   "cell_type": "markdown",
   "id": "b7652a34",
   "metadata": {},
   "source": [
    " suppose we have three groups with sample sizes of 10, 20, and 30. The weighted sum of squares for the group variable would give more weight to the squared deviations of the group with a sample size of 30, as it is the largest group and likely to be more representative of the population"
   ]
  },
  {
   "cell_type": "markdown",
   "id": "726371b8",
   "metadata": {},
   "source": [
    "sum of the squared : It measures the total amount of variation in the data from a reference value (overall mean) , usually the mean or the expected value."
   ]
  },
  {
   "cell_type": "markdown",
   "id": "b9082278",
   "metadata": {},
   "source": [
    "The degrees of freedom for the group variable is the number of groups minus one."
   ]
  },
  {
   "cell_type": "markdown",
   "id": "5330ed50",
   "metadata": {},
   "source": [
    "### variability within the groups (Residuals)"
   ]
  },
  {
   "cell_type": "markdown",
   "id": "0bbb5fb6",
   "metadata": {},
   "source": [
    "The variability within the groups in ANOVA is the variance of the individual observations around their group means"
   ]
  },
  {
   "cell_type": "markdown",
   "id": "ae7d38be",
   "metadata": {},
   "source": [
    "It is calculated as the sum of the squared deviations of each observation from its group mean, with the sum taken over all groups. This SS is then divided by its degrees of freedom (which is equal to the total sample size minus the number of groups) to obtain an estimate of the variance of the residuals or error term."
   ]
  },
  {
   "cell_type": "markdown",
   "id": "9df2614c",
   "metadata": {},
   "source": [
    " It is an important measure of the amount of random variation or error in the data, and provides a baseline for comparing the magnitude of the variance between groups."
   ]
  },
  {
   "cell_type": "markdown",
   "id": "89db1127",
   "metadata": {},
   "source": [
    "The variance within groups, also known as the residual variance, measures the variability in the data that cannot be explained by the group variable. It represents the amount of variability that is due to random error or other factors not accounted for in the model."
   ]
  },
  {
   "cell_type": "markdown",
   "id": "9c1c8e57",
   "metadata": {},
   "source": [
    " ### F value"
   ]
  },
  {
   "cell_type": "markdown",
   "id": "713a6db3",
   "metadata": {},
   "source": [
    "In an ANOVA, the F value is a test statistic that measures the ratio of the variance between groups to the variance within groups."
   ]
  },
  {
   "cell_type": "markdown",
   "id": "33da931d",
   "metadata": {},
   "source": [
    "#### If the F-value is large and the corresponding p-value is small (typically below a predetermined alpha level, such as 0.05), it indicates that the variance between groups is significantly greater than the variance within groups, and there is evidence to reject the null hypothesis"
   ]
  },
  {
   "cell_type": "markdown",
   "id": "c860d4cb",
   "metadata": {},
   "source": [
    "####  if the F-value is small and the corresponding p-value is large (typically above the alpha level), it indicates that the variance between groups is not significantly greater than the variance within groups, and there is no evidence to reject the null hypothesis."
   ]
  },
  {
   "cell_type": "markdown",
   "id": "401eeb70",
   "metadata": {},
   "source": [
    "### Sum Sq"
   ]
  },
  {
   "cell_type": "markdown",
   "id": "ff6e1aed",
   "metadata": {},
   "source": [
    "The \"Sum Sq\" column represents the sum of squares for each source of variation.how much of the variation in the data can be explained by a particular factor or source"
   ]
  },
  {
   "cell_type": "markdown",
   "id": "57bf1d7f",
   "metadata": {},
   "source": [
    "A high sum of squares for a factor or source indicates that it has a strong effect on the dependent variable, while a low sum of squares suggests that it has little or no effect."
   ]
  },
  {
   "cell_type": "markdown",
   "id": "0d800b3f",
   "metadata": {},
   "source": [
    "### One-Way ANOVA"
   ]
  },
  {
   "cell_type": "code",
   "execution_count": 5,
   "id": "4f685081",
   "metadata": {},
   "outputs": [],
   "source": [
    "mydata <- data.frame(score = rnorm(30, mean = rep(1:3, each = 10), sd = 1),\n",
    "                      group = rep(LETTERS[1:3], each = 10))"
   ]
  },
  {
   "cell_type": "code",
   "execution_count": 6,
   "id": "e4b73f83",
   "metadata": {},
   "outputs": [
    {
     "data": {
      "text/plain": [
       "            Df Sum Sq Mean Sq F value   Pr(>F)    \n",
       "group        2  21.06  10.530   9.121 0.000941 ***\n",
       "Residuals   27  31.17   1.154                     \n",
       "---\n",
       "Signif. codes:  0 '***' 0.001 '**' 0.01 '*' 0.05 '.' 0.1 ' ' 1"
      ]
     },
     "metadata": {},
     "output_type": "display_data"
    }
   ],
   "source": [
    "model <- aov(score ~ group, data = mydata)\n",
    "summary(model)"
   ]
  },
  {
   "cell_type": "markdown",
   "id": "62c32047",
   "metadata": {},
   "source": [
    "We then performed a one-way ANOVA using the aov() function, where score is the outcome variable and group is the predictor variable. The data argument specifies that the data are contained in the mydata data frame."
   ]
  },
  {
   "cell_type": "markdown",
   "id": "e0438a31",
   "metadata": {},
   "source": [
    "The residuals represent the unexplained variability in the data after accounting for the effects of the group variable. "
   ]
  },
  {
   "cell_type": "markdown",
   "id": "e2e0e7ca",
   "metadata": {},
   "source": [
    " there are three groups being compared, and the F value is 9.121 with a corresponding p-value (Pr(>F)) of 0.000941, which is much smaller than the usual significance level of 0.05 it indicates that the variance between groups is significantly greater than the variance within groups, and there is evidence to reject the null hypothesis"
   ]
  },
  {
   "cell_type": "markdown",
   "id": "9a84e2b1",
   "metadata": {},
   "source": [
    "The sum of squares (Sum Sq) measures the amount of variability in the data that is accounted for by the group variable 21.6 and the residuals 31.17 . "
   ]
  },
  {
   "cell_type": "markdown",
   "id": "2edeb262",
   "metadata": {},
   "source": [
    "The mean squares (Mean Sq) is the sum of squares divided by the degrees of freedom (df) for the corresponding variable."
   ]
  },
  {
   "cell_type": "markdown",
   "id": "31381416",
   "metadata": {},
   "source": [
    "### Two-Way ANOVA"
   ]
  },
  {
   "cell_type": "markdown",
   "id": "fff4d69e",
   "metadata": {},
   "source": [
    "This type of ANOVA is used to examine the effects of two independent variables (factors) on a dependent variable. For example, if we want to test the effect of both gender and age on a test score, we can use a two-way ANOVA."
   ]
  },
  {
   "cell_type": "code",
   "execution_count": 1,
   "id": "28acc231",
   "metadata": {},
   "outputs": [],
   "source": [
    "set.seed(123)  # for reproducibility\n",
    "\n",
    "diet <- rep(c(\"A\", \"B\"), each = 20)\n",
    "exercise <- rep(c(\"Low\", \"High\"), times = 20)\n",
    "weight <- c(rnorm(20, 25, 2), rnorm(20, 30, 2),\n",
    "            rnorm(20, 28, 2), rnorm(20, 32, 2))\n",
    "\n",
    "data <- data.frame(diet, exercise, weight)"
   ]
  },
  {
   "cell_type": "code",
   "execution_count": 2,
   "id": "5e9a2b5e",
   "metadata": {},
   "outputs": [
    {
     "data": {
      "text/plain": [
       "              Df Sum Sq Mean Sq F value   Pr(>F)    \n",
       "diet           1  333.0   333.0  65.682 6.95e-12 ***\n",
       "exercise       1    0.0     0.0   0.000    0.996    \n",
       "diet:exercise  1    1.0     1.0   0.205    0.652    \n",
       "Residuals     76  385.4     5.1                     \n",
       "---\n",
       "Signif. codes:  0 '***' 0.001 '**' 0.01 '*' 0.05 '.' 0.1 ' ' 1"
      ]
     },
     "metadata": {},
     "output_type": "display_data"
    }
   ],
   "source": [
    "fit <- aov(weight ~ diet + exercise + diet:exercise, data = data)\n",
    "summary(fit)"
   ]
  },
  {
   "cell_type": "markdown",
   "id": "72c4c9c1",
   "metadata": {},
   "source": [
    "The first row shows the results for the main effect of the diet factor. It has 1 degree of freedom (df), a sum of squares (SS) of 333.0, and a mean sum of squares (MS) of 333.0. The F value is 65.682, indicating that the effect of the diet factor is statistically significant (p < 0.001)."
   ]
  },
  {
   "cell_type": "markdown",
   "id": "dc2f38e5",
   "metadata": {},
   "source": [
    "The fourth row shows the results for the residuals, which represent the unexplained variation in the data. It has 76 df, a SS of 385.4, and a MS of 5.1."
   ]
  },
  {
   "cell_type": "markdown",
   "id": "0adeaecb",
   "metadata": {},
   "source": [
    "If the residual sum of squares (SSR) is greater than the sum of squares for the factors (i.e., the sum of squares for all the sources of variation except the residual), this suggests that a large amount of the variability in the data is not accounted for by the factors under investigation"
   ]
  },
  {
   "cell_type": "markdown",
   "id": "227ecc63",
   "metadata": {},
   "source": [
    "### Repeated Measures ANOVA"
   ]
  },
  {
   "cell_type": "code",
   "execution_count": 10,
   "id": "922da5b4",
   "metadata": {},
   "outputs": [
    {
     "data": {
      "text/html": [
       "<table class=\"dataframe\">\n",
       "<caption>A data.frame: 60 × 4</caption>\n",
       "<thead>\n",
       "\t<tr><th scope=col>sugar</th><th scope=col>factor1</th><th scope=col>factor2</th><th scope=col>score</th></tr>\n",
       "\t<tr><th scope=col>&lt;int&gt;</th><th scope=col>&lt;chr&gt;</th><th scope=col>&lt;chr&gt;</th><th scope=col>&lt;dbl&gt;</th></tr>\n",
       "</thead>\n",
       "<tbody>\n",
       "\t<tr><td> 1</td><td>A</td><td>X</td><td> 8.879049</td></tr>\n",
       "\t<tr><td> 1</td><td>A</td><td>Y</td><td> 9.539645</td></tr>\n",
       "\t<tr><td> 1</td><td>A</td><td>Z</td><td>13.117417</td></tr>\n",
       "\t<tr><td> 2</td><td>A</td><td>X</td><td>10.141017</td></tr>\n",
       "\t<tr><td> 2</td><td>A</td><td>Y</td><td>10.258575</td></tr>\n",
       "\t<tr><td> 2</td><td>A</td><td>Z</td><td>13.430130</td></tr>\n",
       "\t<tr><td> 3</td><td>A</td><td>X</td><td>10.921832</td></tr>\n",
       "\t<tr><td> 3</td><td>A</td><td>Y</td><td> 7.469878</td></tr>\n",
       "\t<tr><td> 3</td><td>A</td><td>Z</td><td> 8.626294</td></tr>\n",
       "\t<tr><td> 4</td><td>A</td><td>X</td><td> 9.108676</td></tr>\n",
       "\t<tr><td> 4</td><td>A</td><td>Y</td><td>12.448164</td></tr>\n",
       "\t<tr><td> 4</td><td>A</td><td>Z</td><td>10.719628</td></tr>\n",
       "\t<tr><td> 5</td><td>A</td><td>X</td><td>10.801543</td></tr>\n",
       "\t<tr><td> 5</td><td>A</td><td>Y</td><td>10.221365</td></tr>\n",
       "\t<tr><td> 5</td><td>A</td><td>Z</td><td> 8.888318</td></tr>\n",
       "\t<tr><td> 6</td><td>A</td><td>X</td><td>13.573826</td></tr>\n",
       "\t<tr><td> 6</td><td>A</td><td>Y</td><td>10.995701</td></tr>\n",
       "\t<tr><td> 6</td><td>A</td><td>Z</td><td> 6.066766</td></tr>\n",
       "\t<tr><td> 7</td><td>A</td><td>X</td><td>11.402712</td></tr>\n",
       "\t<tr><td> 7</td><td>A</td><td>Y</td><td> 9.054417</td></tr>\n",
       "\t<tr><td> 7</td><td>A</td><td>Z</td><td> 7.864353</td></tr>\n",
       "\t<tr><td> 8</td><td>A</td><td>X</td><td> 9.564050</td></tr>\n",
       "\t<tr><td> 8</td><td>A</td><td>Y</td><td> 7.947991</td></tr>\n",
       "\t<tr><td> 8</td><td>A</td><td>Z</td><td> 8.542218</td></tr>\n",
       "\t<tr><td> 9</td><td>A</td><td>X</td><td> 8.749921</td></tr>\n",
       "\t<tr><td> 9</td><td>A</td><td>Y</td><td> 6.626613</td></tr>\n",
       "\t<tr><td> 9</td><td>A</td><td>Z</td><td>11.675574</td></tr>\n",
       "\t<tr><td>10</td><td>A</td><td>X</td><td>10.306746</td></tr>\n",
       "\t<tr><td>10</td><td>A</td><td>Y</td><td> 7.723726</td></tr>\n",
       "\t<tr><td>10</td><td>A</td><td>Z</td><td>12.507630</td></tr>\n",
       "\t<tr><td>11</td><td>B</td><td>X</td><td>10.852928</td></tr>\n",
       "\t<tr><td>11</td><td>B</td><td>Y</td><td> 9.409857</td></tr>\n",
       "\t<tr><td>11</td><td>B</td><td>Z</td><td>11.790251</td></tr>\n",
       "\t<tr><td>12</td><td>B</td><td>X</td><td>11.756267</td></tr>\n",
       "\t<tr><td>12</td><td>B</td><td>Y</td><td>11.643162</td></tr>\n",
       "\t<tr><td>12</td><td>B</td><td>Z</td><td>11.377281</td></tr>\n",
       "\t<tr><td>13</td><td>B</td><td>X</td><td>11.107835</td></tr>\n",
       "\t<tr><td>13</td><td>B</td><td>Y</td><td> 9.876177</td></tr>\n",
       "\t<tr><td>13</td><td>B</td><td>Z</td><td> 9.388075</td></tr>\n",
       "\t<tr><td>14</td><td>B</td><td>X</td><td> 9.239058</td></tr>\n",
       "\t<tr><td>14</td><td>B</td><td>Y</td><td> 8.610586</td></tr>\n",
       "\t<tr><td>14</td><td>B</td><td>Z</td><td> 9.584165</td></tr>\n",
       "\t<tr><td>15</td><td>B</td><td>X</td><td> 7.469207</td></tr>\n",
       "\t<tr><td>15</td><td>B</td><td>Y</td><td>14.337912</td></tr>\n",
       "\t<tr><td>15</td><td>B</td><td>Z</td><td>12.415924</td></tr>\n",
       "\t<tr><td>16</td><td>B</td><td>X</td><td> 7.753783</td></tr>\n",
       "\t<tr><td>16</td><td>B</td><td>Y</td><td> 9.194230</td></tr>\n",
       "\t<tr><td>16</td><td>B</td><td>Z</td><td> 9.066689</td></tr>\n",
       "\t<tr><td>17</td><td>B</td><td>X</td><td>11.559930</td></tr>\n",
       "\t<tr><td>17</td><td>B</td><td>Y</td><td> 9.833262</td></tr>\n",
       "\t<tr><td>17</td><td>B</td><td>Z</td><td>10.506637</td></tr>\n",
       "\t<tr><td>18</td><td>B</td><td>X</td><td> 9.942906</td></tr>\n",
       "\t<tr><td>18</td><td>B</td><td>Y</td><td> 9.914259</td></tr>\n",
       "\t<tr><td>18</td><td>B</td><td>Z</td><td>12.737205</td></tr>\n",
       "\t<tr><td>19</td><td>B</td><td>X</td><td> 9.548458</td></tr>\n",
       "\t<tr><td>19</td><td>B</td><td>Y</td><td>13.032941</td></tr>\n",
       "\t<tr><td>19</td><td>B</td><td>Z</td><td> 6.902494</td></tr>\n",
       "\t<tr><td>20</td><td>B</td><td>X</td><td>11.169227</td></tr>\n",
       "\t<tr><td>20</td><td>B</td><td>Y</td><td>10.247708</td></tr>\n",
       "\t<tr><td>20</td><td>B</td><td>Z</td><td>10.431883</td></tr>\n",
       "</tbody>\n",
       "</table>\n"
      ],
      "text/latex": [
       "A data.frame: 60 × 4\n",
       "\\begin{tabular}{llll}\n",
       " sugar & factor1 & factor2 & score\\\\\n",
       " <int> & <chr> & <chr> & <dbl>\\\\\n",
       "\\hline\n",
       "\t  1 & A & X &  8.879049\\\\\n",
       "\t  1 & A & Y &  9.539645\\\\\n",
       "\t  1 & A & Z & 13.117417\\\\\n",
       "\t  2 & A & X & 10.141017\\\\\n",
       "\t  2 & A & Y & 10.258575\\\\\n",
       "\t  2 & A & Z & 13.430130\\\\\n",
       "\t  3 & A & X & 10.921832\\\\\n",
       "\t  3 & A & Y &  7.469878\\\\\n",
       "\t  3 & A & Z &  8.626294\\\\\n",
       "\t  4 & A & X &  9.108676\\\\\n",
       "\t  4 & A & Y & 12.448164\\\\\n",
       "\t  4 & A & Z & 10.719628\\\\\n",
       "\t  5 & A & X & 10.801543\\\\\n",
       "\t  5 & A & Y & 10.221365\\\\\n",
       "\t  5 & A & Z &  8.888318\\\\\n",
       "\t  6 & A & X & 13.573826\\\\\n",
       "\t  6 & A & Y & 10.995701\\\\\n",
       "\t  6 & A & Z &  6.066766\\\\\n",
       "\t  7 & A & X & 11.402712\\\\\n",
       "\t  7 & A & Y &  9.054417\\\\\n",
       "\t  7 & A & Z &  7.864353\\\\\n",
       "\t  8 & A & X &  9.564050\\\\\n",
       "\t  8 & A & Y &  7.947991\\\\\n",
       "\t  8 & A & Z &  8.542218\\\\\n",
       "\t  9 & A & X &  8.749921\\\\\n",
       "\t  9 & A & Y &  6.626613\\\\\n",
       "\t  9 & A & Z & 11.675574\\\\\n",
       "\t 10 & A & X & 10.306746\\\\\n",
       "\t 10 & A & Y &  7.723726\\\\\n",
       "\t 10 & A & Z & 12.507630\\\\\n",
       "\t 11 & B & X & 10.852928\\\\\n",
       "\t 11 & B & Y &  9.409857\\\\\n",
       "\t 11 & B & Z & 11.790251\\\\\n",
       "\t 12 & B & X & 11.756267\\\\\n",
       "\t 12 & B & Y & 11.643162\\\\\n",
       "\t 12 & B & Z & 11.377281\\\\\n",
       "\t 13 & B & X & 11.107835\\\\\n",
       "\t 13 & B & Y &  9.876177\\\\\n",
       "\t 13 & B & Z &  9.388075\\\\\n",
       "\t 14 & B & X &  9.239058\\\\\n",
       "\t 14 & B & Y &  8.610586\\\\\n",
       "\t 14 & B & Z &  9.584165\\\\\n",
       "\t 15 & B & X &  7.469207\\\\\n",
       "\t 15 & B & Y & 14.337912\\\\\n",
       "\t 15 & B & Z & 12.415924\\\\\n",
       "\t 16 & B & X &  7.753783\\\\\n",
       "\t 16 & B & Y &  9.194230\\\\\n",
       "\t 16 & B & Z &  9.066689\\\\\n",
       "\t 17 & B & X & 11.559930\\\\\n",
       "\t 17 & B & Y &  9.833262\\\\\n",
       "\t 17 & B & Z & 10.506637\\\\\n",
       "\t 18 & B & X &  9.942906\\\\\n",
       "\t 18 & B & Y &  9.914259\\\\\n",
       "\t 18 & B & Z & 12.737205\\\\\n",
       "\t 19 & B & X &  9.548458\\\\\n",
       "\t 19 & B & Y & 13.032941\\\\\n",
       "\t 19 & B & Z &  6.902494\\\\\n",
       "\t 20 & B & X & 11.169227\\\\\n",
       "\t 20 & B & Y & 10.247708\\\\\n",
       "\t 20 & B & Z & 10.431883\\\\\n",
       "\\end{tabular}\n"
      ],
      "text/markdown": [
       "\n",
       "A data.frame: 60 × 4\n",
       "\n",
       "| sugar &lt;int&gt; | factor1 &lt;chr&gt; | factor2 &lt;chr&gt; | score &lt;dbl&gt; |\n",
       "|---|---|---|---|\n",
       "|  1 | A | X |  8.879049 |\n",
       "|  1 | A | Y |  9.539645 |\n",
       "|  1 | A | Z | 13.117417 |\n",
       "|  2 | A | X | 10.141017 |\n",
       "|  2 | A | Y | 10.258575 |\n",
       "|  2 | A | Z | 13.430130 |\n",
       "|  3 | A | X | 10.921832 |\n",
       "|  3 | A | Y |  7.469878 |\n",
       "|  3 | A | Z |  8.626294 |\n",
       "|  4 | A | X |  9.108676 |\n",
       "|  4 | A | Y | 12.448164 |\n",
       "|  4 | A | Z | 10.719628 |\n",
       "|  5 | A | X | 10.801543 |\n",
       "|  5 | A | Y | 10.221365 |\n",
       "|  5 | A | Z |  8.888318 |\n",
       "|  6 | A | X | 13.573826 |\n",
       "|  6 | A | Y | 10.995701 |\n",
       "|  6 | A | Z |  6.066766 |\n",
       "|  7 | A | X | 11.402712 |\n",
       "|  7 | A | Y |  9.054417 |\n",
       "|  7 | A | Z |  7.864353 |\n",
       "|  8 | A | X |  9.564050 |\n",
       "|  8 | A | Y |  7.947991 |\n",
       "|  8 | A | Z |  8.542218 |\n",
       "|  9 | A | X |  8.749921 |\n",
       "|  9 | A | Y |  6.626613 |\n",
       "|  9 | A | Z | 11.675574 |\n",
       "| 10 | A | X | 10.306746 |\n",
       "| 10 | A | Y |  7.723726 |\n",
       "| 10 | A | Z | 12.507630 |\n",
       "| 11 | B | X | 10.852928 |\n",
       "| 11 | B | Y |  9.409857 |\n",
       "| 11 | B | Z | 11.790251 |\n",
       "| 12 | B | X | 11.756267 |\n",
       "| 12 | B | Y | 11.643162 |\n",
       "| 12 | B | Z | 11.377281 |\n",
       "| 13 | B | X | 11.107835 |\n",
       "| 13 | B | Y |  9.876177 |\n",
       "| 13 | B | Z |  9.388075 |\n",
       "| 14 | B | X |  9.239058 |\n",
       "| 14 | B | Y |  8.610586 |\n",
       "| 14 | B | Z |  9.584165 |\n",
       "| 15 | B | X |  7.469207 |\n",
       "| 15 | B | Y | 14.337912 |\n",
       "| 15 | B | Z | 12.415924 |\n",
       "| 16 | B | X |  7.753783 |\n",
       "| 16 | B | Y |  9.194230 |\n",
       "| 16 | B | Z |  9.066689 |\n",
       "| 17 | B | X | 11.559930 |\n",
       "| 17 | B | Y |  9.833262 |\n",
       "| 17 | B | Z | 10.506637 |\n",
       "| 18 | B | X |  9.942906 |\n",
       "| 18 | B | Y |  9.914259 |\n",
       "| 18 | B | Z | 12.737205 |\n",
       "| 19 | B | X |  9.548458 |\n",
       "| 19 | B | Y | 13.032941 |\n",
       "| 19 | B | Z |  6.902494 |\n",
       "| 20 | B | X | 11.169227 |\n",
       "| 20 | B | Y | 10.247708 |\n",
       "| 20 | B | Z | 10.431883 |\n",
       "\n"
      ],
      "text/plain": [
       "   sugar factor1 factor2 score    \n",
       "1   1    A       X        8.879049\n",
       "2   1    A       Y        9.539645\n",
       "3   1    A       Z       13.117417\n",
       "4   2    A       X       10.141017\n",
       "5   2    A       Y       10.258575\n",
       "6   2    A       Z       13.430130\n",
       "7   3    A       X       10.921832\n",
       "8   3    A       Y        7.469878\n",
       "9   3    A       Z        8.626294\n",
       "10  4    A       X        9.108676\n",
       "11  4    A       Y       12.448164\n",
       "12  4    A       Z       10.719628\n",
       "13  5    A       X       10.801543\n",
       "14  5    A       Y       10.221365\n",
       "15  5    A       Z        8.888318\n",
       "16  6    A       X       13.573826\n",
       "17  6    A       Y       10.995701\n",
       "18  6    A       Z        6.066766\n",
       "19  7    A       X       11.402712\n",
       "20  7    A       Y        9.054417\n",
       "21  7    A       Z        7.864353\n",
       "22  8    A       X        9.564050\n",
       "23  8    A       Y        7.947991\n",
       "24  8    A       Z        8.542218\n",
       "25  9    A       X        8.749921\n",
       "26  9    A       Y        6.626613\n",
       "27  9    A       Z       11.675574\n",
       "28 10    A       X       10.306746\n",
       "29 10    A       Y        7.723726\n",
       "30 10    A       Z       12.507630\n",
       "31 11    B       X       10.852928\n",
       "32 11    B       Y        9.409857\n",
       "33 11    B       Z       11.790251\n",
       "34 12    B       X       11.756267\n",
       "35 12    B       Y       11.643162\n",
       "36 12    B       Z       11.377281\n",
       "37 13    B       X       11.107835\n",
       "38 13    B       Y        9.876177\n",
       "39 13    B       Z        9.388075\n",
       "40 14    B       X        9.239058\n",
       "41 14    B       Y        8.610586\n",
       "42 14    B       Z        9.584165\n",
       "43 15    B       X        7.469207\n",
       "44 15    B       Y       14.337912\n",
       "45 15    B       Z       12.415924\n",
       "46 16    B       X        7.753783\n",
       "47 16    B       Y        9.194230\n",
       "48 16    B       Z        9.066689\n",
       "49 17    B       X       11.559930\n",
       "50 17    B       Y        9.833262\n",
       "51 17    B       Z       10.506637\n",
       "52 18    B       X        9.942906\n",
       "53 18    B       Y        9.914259\n",
       "54 18    B       Z       12.737205\n",
       "55 19    B       X        9.548458\n",
       "56 19    B       Y       13.032941\n",
       "57 19    B       Z        6.902494\n",
       "58 20    B       X       11.169227\n",
       "59 20    B       Y       10.247708\n",
       "60 20    B       Z       10.431883"
      ]
     },
     "metadata": {},
     "output_type": "display_data"
    }
   ],
   "source": [
    "set.seed(123)\n",
    "df <- data.frame(\n",
    "  sugar = rep(1:20, each = 3),\n",
    "  factor1 = rep(c(\"A\", \"B\"), each = 30),\n",
    "  factor2 = rep(c(\"X\", \"Y\", \"Z\"), times = 20),\n",
    "  score = rnorm(60, mean = 10, sd = 2)\n",
    ");df\n"
   ]
  },
  {
   "cell_type": "code",
   "execution_count": 11,
   "id": "166d5efb",
   "metadata": {},
   "outputs": [
    {
     "data": {
      "text/html": [
       "<table class=\"dataframe\">\n",
       "<caption>A tibble: 120 × 4</caption>\n",
       "<thead>\n",
       "\t<tr><th scope=col>sugar</th><th scope=col>score</th><th scope=col>factor</th><th scope=col>level</th></tr>\n",
       "\t<tr><th scope=col>&lt;int&gt;</th><th scope=col>&lt;dbl&gt;</th><th scope=col>&lt;chr&gt;</th><th scope=col>&lt;chr&gt;</th></tr>\n",
       "</thead>\n",
       "<tbody>\n",
       "\t<tr><td>1</td><td> 8.879049</td><td>factor1</td><td>A</td></tr>\n",
       "\t<tr><td>1</td><td> 8.879049</td><td>factor2</td><td>X</td></tr>\n",
       "\t<tr><td>1</td><td> 9.539645</td><td>factor1</td><td>A</td></tr>\n",
       "\t<tr><td>1</td><td> 9.539645</td><td>factor2</td><td>Y</td></tr>\n",
       "\t<tr><td>1</td><td>13.117417</td><td>factor1</td><td>A</td></tr>\n",
       "\t<tr><td>1</td><td>13.117417</td><td>factor2</td><td>Z</td></tr>\n",
       "\t<tr><td>2</td><td>10.141017</td><td>factor1</td><td>A</td></tr>\n",
       "\t<tr><td>2</td><td>10.141017</td><td>factor2</td><td>X</td></tr>\n",
       "\t<tr><td>2</td><td>10.258575</td><td>factor1</td><td>A</td></tr>\n",
       "\t<tr><td>2</td><td>10.258575</td><td>factor2</td><td>Y</td></tr>\n",
       "\t<tr><td>2</td><td>13.430130</td><td>factor1</td><td>A</td></tr>\n",
       "\t<tr><td>2</td><td>13.430130</td><td>factor2</td><td>Z</td></tr>\n",
       "\t<tr><td>3</td><td>10.921832</td><td>factor1</td><td>A</td></tr>\n",
       "\t<tr><td>3</td><td>10.921832</td><td>factor2</td><td>X</td></tr>\n",
       "\t<tr><td>3</td><td> 7.469878</td><td>factor1</td><td>A</td></tr>\n",
       "\t<tr><td>3</td><td> 7.469878</td><td>factor2</td><td>Y</td></tr>\n",
       "\t<tr><td>3</td><td> 8.626294</td><td>factor1</td><td>A</td></tr>\n",
       "\t<tr><td>3</td><td> 8.626294</td><td>factor2</td><td>Z</td></tr>\n",
       "\t<tr><td>4</td><td> 9.108676</td><td>factor1</td><td>A</td></tr>\n",
       "\t<tr><td>4</td><td> 9.108676</td><td>factor2</td><td>X</td></tr>\n",
       "\t<tr><td>4</td><td>12.448164</td><td>factor1</td><td>A</td></tr>\n",
       "\t<tr><td>4</td><td>12.448164</td><td>factor2</td><td>Y</td></tr>\n",
       "\t<tr><td>4</td><td>10.719628</td><td>factor1</td><td>A</td></tr>\n",
       "\t<tr><td>4</td><td>10.719628</td><td>factor2</td><td>Z</td></tr>\n",
       "\t<tr><td>5</td><td>10.801543</td><td>factor1</td><td>A</td></tr>\n",
       "\t<tr><td>5</td><td>10.801543</td><td>factor2</td><td>X</td></tr>\n",
       "\t<tr><td>5</td><td>10.221365</td><td>factor1</td><td>A</td></tr>\n",
       "\t<tr><td>5</td><td>10.221365</td><td>factor2</td><td>Y</td></tr>\n",
       "\t<tr><td>5</td><td> 8.888318</td><td>factor1</td><td>A</td></tr>\n",
       "\t<tr><td>5</td><td> 8.888318</td><td>factor2</td><td>Z</td></tr>\n",
       "\t<tr><td>...</td><td>...</td><td>...</td><td>...</td></tr>\n",
       "\t<tr><td>16</td><td> 7.753783</td><td>factor1</td><td>B</td></tr>\n",
       "\t<tr><td>16</td><td> 7.753783</td><td>factor2</td><td>X</td></tr>\n",
       "\t<tr><td>16</td><td> 9.194230</td><td>factor1</td><td>B</td></tr>\n",
       "\t<tr><td>16</td><td> 9.194230</td><td>factor2</td><td>Y</td></tr>\n",
       "\t<tr><td>16</td><td> 9.066689</td><td>factor1</td><td>B</td></tr>\n",
       "\t<tr><td>16</td><td> 9.066689</td><td>factor2</td><td>Z</td></tr>\n",
       "\t<tr><td>17</td><td>11.559930</td><td>factor1</td><td>B</td></tr>\n",
       "\t<tr><td>17</td><td>11.559930</td><td>factor2</td><td>X</td></tr>\n",
       "\t<tr><td>17</td><td> 9.833262</td><td>factor1</td><td>B</td></tr>\n",
       "\t<tr><td>17</td><td> 9.833262</td><td>factor2</td><td>Y</td></tr>\n",
       "\t<tr><td>17</td><td>10.506637</td><td>factor1</td><td>B</td></tr>\n",
       "\t<tr><td>17</td><td>10.506637</td><td>factor2</td><td>Z</td></tr>\n",
       "\t<tr><td>18</td><td> 9.942906</td><td>factor1</td><td>B</td></tr>\n",
       "\t<tr><td>18</td><td> 9.942906</td><td>factor2</td><td>X</td></tr>\n",
       "\t<tr><td>18</td><td> 9.914259</td><td>factor1</td><td>B</td></tr>\n",
       "\t<tr><td>18</td><td> 9.914259</td><td>factor2</td><td>Y</td></tr>\n",
       "\t<tr><td>18</td><td>12.737205</td><td>factor1</td><td>B</td></tr>\n",
       "\t<tr><td>18</td><td>12.737205</td><td>factor2</td><td>Z</td></tr>\n",
       "\t<tr><td>19</td><td> 9.548458</td><td>factor1</td><td>B</td></tr>\n",
       "\t<tr><td>19</td><td> 9.548458</td><td>factor2</td><td>X</td></tr>\n",
       "\t<tr><td>19</td><td>13.032941</td><td>factor1</td><td>B</td></tr>\n",
       "\t<tr><td>19</td><td>13.032941</td><td>factor2</td><td>Y</td></tr>\n",
       "\t<tr><td>19</td><td> 6.902494</td><td>factor1</td><td>B</td></tr>\n",
       "\t<tr><td>19</td><td> 6.902494</td><td>factor2</td><td>Z</td></tr>\n",
       "\t<tr><td>20</td><td>11.169227</td><td>factor1</td><td>B</td></tr>\n",
       "\t<tr><td>20</td><td>11.169227</td><td>factor2</td><td>X</td></tr>\n",
       "\t<tr><td>20</td><td>10.247708</td><td>factor1</td><td>B</td></tr>\n",
       "\t<tr><td>20</td><td>10.247708</td><td>factor2</td><td>Y</td></tr>\n",
       "\t<tr><td>20</td><td>10.431883</td><td>factor1</td><td>B</td></tr>\n",
       "\t<tr><td>20</td><td>10.431883</td><td>factor2</td><td>Z</td></tr>\n",
       "</tbody>\n",
       "</table>\n"
      ],
      "text/latex": [
       "A tibble: 120 × 4\n",
       "\\begin{tabular}{llll}\n",
       " sugar & score & factor & level\\\\\n",
       " <int> & <dbl> & <chr> & <chr>\\\\\n",
       "\\hline\n",
       "\t 1 &  8.879049 & factor1 & A\\\\\n",
       "\t 1 &  8.879049 & factor2 & X\\\\\n",
       "\t 1 &  9.539645 & factor1 & A\\\\\n",
       "\t 1 &  9.539645 & factor2 & Y\\\\\n",
       "\t 1 & 13.117417 & factor1 & A\\\\\n",
       "\t 1 & 13.117417 & factor2 & Z\\\\\n",
       "\t 2 & 10.141017 & factor1 & A\\\\\n",
       "\t 2 & 10.141017 & factor2 & X\\\\\n",
       "\t 2 & 10.258575 & factor1 & A\\\\\n",
       "\t 2 & 10.258575 & factor2 & Y\\\\\n",
       "\t 2 & 13.430130 & factor1 & A\\\\\n",
       "\t 2 & 13.430130 & factor2 & Z\\\\\n",
       "\t 3 & 10.921832 & factor1 & A\\\\\n",
       "\t 3 & 10.921832 & factor2 & X\\\\\n",
       "\t 3 &  7.469878 & factor1 & A\\\\\n",
       "\t 3 &  7.469878 & factor2 & Y\\\\\n",
       "\t 3 &  8.626294 & factor1 & A\\\\\n",
       "\t 3 &  8.626294 & factor2 & Z\\\\\n",
       "\t 4 &  9.108676 & factor1 & A\\\\\n",
       "\t 4 &  9.108676 & factor2 & X\\\\\n",
       "\t 4 & 12.448164 & factor1 & A\\\\\n",
       "\t 4 & 12.448164 & factor2 & Y\\\\\n",
       "\t 4 & 10.719628 & factor1 & A\\\\\n",
       "\t 4 & 10.719628 & factor2 & Z\\\\\n",
       "\t 5 & 10.801543 & factor1 & A\\\\\n",
       "\t 5 & 10.801543 & factor2 & X\\\\\n",
       "\t 5 & 10.221365 & factor1 & A\\\\\n",
       "\t 5 & 10.221365 & factor2 & Y\\\\\n",
       "\t 5 &  8.888318 & factor1 & A\\\\\n",
       "\t 5 &  8.888318 & factor2 & Z\\\\\n",
       "\t ... & ... & ... & ...\\\\\n",
       "\t 16 &  7.753783 & factor1 & B\\\\\n",
       "\t 16 &  7.753783 & factor2 & X\\\\\n",
       "\t 16 &  9.194230 & factor1 & B\\\\\n",
       "\t 16 &  9.194230 & factor2 & Y\\\\\n",
       "\t 16 &  9.066689 & factor1 & B\\\\\n",
       "\t 16 &  9.066689 & factor2 & Z\\\\\n",
       "\t 17 & 11.559930 & factor1 & B\\\\\n",
       "\t 17 & 11.559930 & factor2 & X\\\\\n",
       "\t 17 &  9.833262 & factor1 & B\\\\\n",
       "\t 17 &  9.833262 & factor2 & Y\\\\\n",
       "\t 17 & 10.506637 & factor1 & B\\\\\n",
       "\t 17 & 10.506637 & factor2 & Z\\\\\n",
       "\t 18 &  9.942906 & factor1 & B\\\\\n",
       "\t 18 &  9.942906 & factor2 & X\\\\\n",
       "\t 18 &  9.914259 & factor1 & B\\\\\n",
       "\t 18 &  9.914259 & factor2 & Y\\\\\n",
       "\t 18 & 12.737205 & factor1 & B\\\\\n",
       "\t 18 & 12.737205 & factor2 & Z\\\\\n",
       "\t 19 &  9.548458 & factor1 & B\\\\\n",
       "\t 19 &  9.548458 & factor2 & X\\\\\n",
       "\t 19 & 13.032941 & factor1 & B\\\\\n",
       "\t 19 & 13.032941 & factor2 & Y\\\\\n",
       "\t 19 &  6.902494 & factor1 & B\\\\\n",
       "\t 19 &  6.902494 & factor2 & Z\\\\\n",
       "\t 20 & 11.169227 & factor1 & B\\\\\n",
       "\t 20 & 11.169227 & factor2 & X\\\\\n",
       "\t 20 & 10.247708 & factor1 & B\\\\\n",
       "\t 20 & 10.247708 & factor2 & Y\\\\\n",
       "\t 20 & 10.431883 & factor1 & B\\\\\n",
       "\t 20 & 10.431883 & factor2 & Z\\\\\n",
       "\\end{tabular}\n"
      ],
      "text/markdown": [
       "\n",
       "A tibble: 120 × 4\n",
       "\n",
       "| sugar &lt;int&gt; | score &lt;dbl&gt; | factor &lt;chr&gt; | level &lt;chr&gt; |\n",
       "|---|---|---|---|\n",
       "| 1 |  8.879049 | factor1 | A |\n",
       "| 1 |  8.879049 | factor2 | X |\n",
       "| 1 |  9.539645 | factor1 | A |\n",
       "| 1 |  9.539645 | factor2 | Y |\n",
       "| 1 | 13.117417 | factor1 | A |\n",
       "| 1 | 13.117417 | factor2 | Z |\n",
       "| 2 | 10.141017 | factor1 | A |\n",
       "| 2 | 10.141017 | factor2 | X |\n",
       "| 2 | 10.258575 | factor1 | A |\n",
       "| 2 | 10.258575 | factor2 | Y |\n",
       "| 2 | 13.430130 | factor1 | A |\n",
       "| 2 | 13.430130 | factor2 | Z |\n",
       "| 3 | 10.921832 | factor1 | A |\n",
       "| 3 | 10.921832 | factor2 | X |\n",
       "| 3 |  7.469878 | factor1 | A |\n",
       "| 3 |  7.469878 | factor2 | Y |\n",
       "| 3 |  8.626294 | factor1 | A |\n",
       "| 3 |  8.626294 | factor2 | Z |\n",
       "| 4 |  9.108676 | factor1 | A |\n",
       "| 4 |  9.108676 | factor2 | X |\n",
       "| 4 | 12.448164 | factor1 | A |\n",
       "| 4 | 12.448164 | factor2 | Y |\n",
       "| 4 | 10.719628 | factor1 | A |\n",
       "| 4 | 10.719628 | factor2 | Z |\n",
       "| 5 | 10.801543 | factor1 | A |\n",
       "| 5 | 10.801543 | factor2 | X |\n",
       "| 5 | 10.221365 | factor1 | A |\n",
       "| 5 | 10.221365 | factor2 | Y |\n",
       "| 5 |  8.888318 | factor1 | A |\n",
       "| 5 |  8.888318 | factor2 | Z |\n",
       "| ... | ... | ... | ... |\n",
       "| 16 |  7.753783 | factor1 | B |\n",
       "| 16 |  7.753783 | factor2 | X |\n",
       "| 16 |  9.194230 | factor1 | B |\n",
       "| 16 |  9.194230 | factor2 | Y |\n",
       "| 16 |  9.066689 | factor1 | B |\n",
       "| 16 |  9.066689 | factor2 | Z |\n",
       "| 17 | 11.559930 | factor1 | B |\n",
       "| 17 | 11.559930 | factor2 | X |\n",
       "| 17 |  9.833262 | factor1 | B |\n",
       "| 17 |  9.833262 | factor2 | Y |\n",
       "| 17 | 10.506637 | factor1 | B |\n",
       "| 17 | 10.506637 | factor2 | Z |\n",
       "| 18 |  9.942906 | factor1 | B |\n",
       "| 18 |  9.942906 | factor2 | X |\n",
       "| 18 |  9.914259 | factor1 | B |\n",
       "| 18 |  9.914259 | factor2 | Y |\n",
       "| 18 | 12.737205 | factor1 | B |\n",
       "| 18 | 12.737205 | factor2 | Z |\n",
       "| 19 |  9.548458 | factor1 | B |\n",
       "| 19 |  9.548458 | factor2 | X |\n",
       "| 19 | 13.032941 | factor1 | B |\n",
       "| 19 | 13.032941 | factor2 | Y |\n",
       "| 19 |  6.902494 | factor1 | B |\n",
       "| 19 |  6.902494 | factor2 | Z |\n",
       "| 20 | 11.169227 | factor1 | B |\n",
       "| 20 | 11.169227 | factor2 | X |\n",
       "| 20 | 10.247708 | factor1 | B |\n",
       "| 20 | 10.247708 | factor2 | Y |\n",
       "| 20 | 10.431883 | factor1 | B |\n",
       "| 20 | 10.431883 | factor2 | Z |\n",
       "\n"
      ],
      "text/plain": [
       "    sugar score     factor  level\n",
       "1   1      8.879049 factor1 A    \n",
       "2   1      8.879049 factor2 X    \n",
       "3   1      9.539645 factor1 A    \n",
       "4   1      9.539645 factor2 Y    \n",
       "5   1     13.117417 factor1 A    \n",
       "6   1     13.117417 factor2 Z    \n",
       "7   2     10.141017 factor1 A    \n",
       "8   2     10.141017 factor2 X    \n",
       "9   2     10.258575 factor1 A    \n",
       "10  2     10.258575 factor2 Y    \n",
       "11  2     13.430130 factor1 A    \n",
       "12  2     13.430130 factor2 Z    \n",
       "13  3     10.921832 factor1 A    \n",
       "14  3     10.921832 factor2 X    \n",
       "15  3      7.469878 factor1 A    \n",
       "16  3      7.469878 factor2 Y    \n",
       "17  3      8.626294 factor1 A    \n",
       "18  3      8.626294 factor2 Z    \n",
       "19  4      9.108676 factor1 A    \n",
       "20  4      9.108676 factor2 X    \n",
       "21  4     12.448164 factor1 A    \n",
       "22  4     12.448164 factor2 Y    \n",
       "23  4     10.719628 factor1 A    \n",
       "24  4     10.719628 factor2 Z    \n",
       "25  5     10.801543 factor1 A    \n",
       "26  5     10.801543 factor2 X    \n",
       "27  5     10.221365 factor1 A    \n",
       "28  5     10.221365 factor2 Y    \n",
       "29  5      8.888318 factor1 A    \n",
       "30  5      8.888318 factor2 Z    \n",
       "... ...   ...       ...     ...  \n",
       "91  16     7.753783 factor1 B    \n",
       "92  16     7.753783 factor2 X    \n",
       "93  16     9.194230 factor1 B    \n",
       "94  16     9.194230 factor2 Y    \n",
       "95  16     9.066689 factor1 B    \n",
       "96  16     9.066689 factor2 Z    \n",
       "97  17    11.559930 factor1 B    \n",
       "98  17    11.559930 factor2 X    \n",
       "99  17     9.833262 factor1 B    \n",
       "100 17     9.833262 factor2 Y    \n",
       "101 17    10.506637 factor1 B    \n",
       "102 17    10.506637 factor2 Z    \n",
       "103 18     9.942906 factor1 B    \n",
       "104 18     9.942906 factor2 X    \n",
       "105 18     9.914259 factor1 B    \n",
       "106 18     9.914259 factor2 Y    \n",
       "107 18    12.737205 factor1 B    \n",
       "108 18    12.737205 factor2 Z    \n",
       "109 19     9.548458 factor1 B    \n",
       "110 19     9.548458 factor2 X    \n",
       "111 19    13.032941 factor1 B    \n",
       "112 19    13.032941 factor2 Y    \n",
       "113 19     6.902494 factor1 B    \n",
       "114 19     6.902494 factor2 Z    \n",
       "115 20    11.169227 factor1 B    \n",
       "116 20    11.169227 factor2 X    \n",
       "117 20    10.247708 factor1 B    \n",
       "118 20    10.247708 factor2 Y    \n",
       "119 20    10.431883 factor1 B    \n",
       "120 20    10.431883 factor2 Z    "
      ]
     },
     "metadata": {},
     "output_type": "display_data"
    }
   ],
   "source": [
    "library(tidyr)\n",
    "df_long <- df %>% \n",
    "  pivot_longer(cols = c(factor1, factor2), names_to = \"factor\", values_to = \"level\");df_long "
   ]
  },
  {
   "cell_type": "markdown",
   "id": "9a9c2e33",
   "metadata": {},
   "source": [
    "In a repeated measures ANOVA, we are interested in measuring the effect of one or more within-subject factors on the outcome variable. Within-subject factors refer to variables that change within each subject, such as time or condition."
   ]
  },
  {
   "cell_type": "markdown",
   "id": "6616373b",
   "metadata": {},
   "source": [
    "To perform a repeated measures ANOVA in R, you can use the aov() function and specify the within-subject factors using the Error() term."
   ]
  },
  {
   "cell_type": "code",
   "execution_count": 12,
   "id": "e1b48e0f",
   "metadata": {},
   "outputs": [
    {
     "data": {
      "text/plain": [
       "\n",
       "Error: sugar\n",
       "      Df Sum Sq Mean Sq\n",
       "sugar  1 0.4069  0.4069\n",
       "\n",
       "Error: sugar:factor\n",
       "       Df Sum Sq Mean Sq\n",
       "factor  1      0       0\n",
       "\n",
       "Error: Within\n",
       "           Df Sum Sq Mean Sq F value Pr(>F)\n",
       "factor      1    0.0   0.000       0      1\n",
       "Residuals 116  390.8   3.369               "
      ]
     },
     "metadata": {},
     "output_type": "display_data"
    }
   ],
   "source": [
    "fit <- aov(score ~ factor * sugar + Error(sugar / factor), data = df_long)\n",
    "summary(fit)"
   ]
  },
  {
   "cell_type": "markdown",
   "id": "5d35c3ce",
   "metadata": {},
   "source": [
    "Error(sugar / factor): specifies that sugar is nested within factor, meaning that each level of factor has a different set of sugar values .that the variance within each sugar value should be used to estimate the error term in the model."
   ]
  },
  {
   "cell_type": "markdown",
   "id": "2f40b7e6",
   "metadata": {},
   "source": [
    "Overall, this formula specifies a repeated measures ANOVA that accounts for the covariance between factor, sugar, and score. The aov()"
   ]
  },
  {
   "cell_type": "markdown",
   "id": "bc0c562b",
   "metadata": {},
   "source": [
    "#### Within-subject factors"
   ]
  },
  {
   "cell_type": "markdown",
   "id": "1cc6fd33",
   "metadata": {},
   "source": [
    "Within-subject factors are variables in a study that are measured repeatedly from the same participants over time or across different conditions"
   ]
  },
  {
   "cell_type": "markdown",
   "id": "9c27ccc1",
   "metadata": {},
   "source": [
    "Error: sugar: this part of the output provides information on the within-subject factor sugar. The Df column indicates the degrees of freedom for this factor, which in this case is 1. The Sum Sq column indicates the sum of squares attributed to sugar, and the Mean Sq column provides the mean sum of squares. In this case, the sum of squares is 0.4069."
   ]
  },
  {
   "cell_type": "markdown",
   "id": "4fcb00fd",
   "metadata": {},
   "source": [
    "Error: sugar:factor: this part of the output provides information on the interaction between sugar and factor. The Df, Sum Sq, and Mean Sq columns have a value of 0, which indicates that this term has no effect on the outcome variable."
   ]
  },
  {
   "cell_type": "markdown",
   "id": "ba6631d5",
   "metadata": {},
   "source": [
    "Error: Within: this part of the output provides information on the residual variance in the model."
   ]
  },
  {
   "cell_type": "markdown",
   "id": "ba95abab",
   "metadata": {},
   "source": [
    "### MANOVA"
   ]
  },
  {
   "cell_type": "markdown",
   "id": "4f51f3c2",
   "metadata": {},
   "source": [
    "Unlike ANOVA, which analyzes only one dependent variable at a time, MANOVA analyzes multiple dependent variables simultaneously."
   ]
  },
  {
   "cell_type": "markdown",
   "id": "aeebb273",
   "metadata": {},
   "source": [
    "The code specifies a model where the sepal length, sepal width, and petal length variables are the response variables and the group variable represents the species of iris."
   ]
  },
  {
   "cell_type": "markdown",
   "id": "2c5385a6",
   "metadata": {},
   "source": [
    "~ group: This specifies the explanatory variable (group) that is used to explain the variation in the response variables."
   ]
  },
  {
   "cell_type": "markdown",
   "id": "b13c8e77",
   "metadata": {},
   "source": [
    "In statistics, explanatory variables (also known as independent variables, predictor variables, or covariates)  are variables that are used to explain  another variable."
   ]
  },
  {
   "cell_type": "markdown",
   "id": "4c708ea6",
   "metadata": {},
   "source": [
    "response variables (also known as dependent variables or outcome variables) are the variables that are being explained or predicted by the explanatory variables."
   ]
  },
  {
   "cell_type": "code",
   "execution_count": 20,
   "id": "6729f600",
   "metadata": {},
   "outputs": [
    {
     "data": {
      "text/plain": [
       "           Df Pillai approx F num Df den Df    Pr(>F)    \n",
       "group       2 1.1325   63.532      6    292 < 2.2e-16 ***\n",
       "Residuals 147                                            \n",
       "---\n",
       "Signif. codes:  0 '***' 0.001 '**' 0.01 '*' 0.05 '.' 0.1 ' ' 1"
      ]
     },
     "metadata": {},
     "output_type": "display_data"
    }
   ],
   "source": [
    "df<-data(\"iris\")\n",
    "\n",
    "\n",
    "# Define the grouping variable\n",
    "group <- iris$Species \n",
    "\n",
    "# Perform the MANOVA\n",
    "manova_result <- manova(cbind(Sepal.Length, Sepal.Width, Petal.Length) ~ group, data = iris)\n",
    "\n",
    "# View the results\n",
    "summary(manova_result)"
   ]
  },
  {
   "cell_type": "markdown",
   "id": "ccea982d",
   "metadata": {},
   "source": [
    "study the effect of group on sevaral variables "
   ]
  },
  {
   "cell_type": "code",
   "execution_count": 21,
   "id": "1166951d",
   "metadata": {},
   "outputs": [
    {
     "data": {
      "text/html": [
       "'iris'"
      ],
      "text/latex": [
       "'iris'"
      ],
      "text/markdown": [
       "'iris'"
      ],
      "text/plain": [
       "[1] \"iris\""
      ]
     },
     "metadata": {},
     "output_type": "display_data"
    }
   ],
   "source": [
    "df"
   ]
  },
  {
   "cell_type": "markdown",
   "id": "2a210633",
   "metadata": {},
   "source": [
    "##### Pillai's trace statisti"
   ]
  },
  {
   "cell_type": "markdown",
   "id": "347c8e10",
   "metadata": {},
   "source": [
    "Pillai's trace (or Pillai's criterion) is a multivariate test statistic used in MANOVA to test the null hypothesis that there is no difference in the combined response variables between groups."
   ]
  },
  {
   "cell_type": "markdown",
   "id": "434e0835",
   "metadata": {},
   "source": [
    "the Pillai's trace statistic, which is a measure of the overall significance of the MANOVA. In this case, the value is 1.1919, indicating a significant effect of the group variable."
   ]
  },
  {
   "cell_type": "markdown",
   "id": "999bee33",
   "metadata": {},
   "source": [
    "Pillai's trace statistic takes values between 0 and 1, where larger values indicate greater differences among the groups"
   ]
  },
  {
   "cell_type": "markdown",
   "id": "7e9045eb",
   "metadata": {},
   "source": [
    " less sensitive to departures from the assumption of homogeneity of variance-covariance matrices across the groups than some other statistics"
   ]
  },
  {
   "cell_type": "markdown",
   "id": "618c02cc",
   "metadata": {},
   "source": [
    "If you obtain a Pillai's trace statistic that is greater than 1, this may indicate an issue with your data or analysis. It is possible that there may be a coding error in your statistical software or a mistake in your data processing steps."
   ]
  },
  {
   "cell_type": "markdown",
   "id": "4611b9ad",
   "metadata": {},
   "source": [
    "#### approx F"
   ]
  },
  {
   "cell_type": "markdown",
   "id": "2ce25406",
   "metadata": {},
   "source": [
    "approx F: the approximate F statistic for the group variable, based on the Pillai's trace statistic. The value is 53.466, indicating a significant effect of the group variable ."
   ]
  },
  {
   "cell_type": "markdown",
   "id": "aa147840",
   "metadata": {},
   "source": [
    "The approximation is used when the sample size is small or when the assumption of normality is not met. The \"approx F\" statistic is computed using the Pillai's trace statistic"
   ]
  },
  {
   "cell_type": "markdown",
   "id": "5aba08bd",
   "metadata": {},
   "source": [
    "The \"approx F\" statistic has an F-distribution under the null hypothesis, and the associated p-value can be used to assess the statistical significance of the group differences in the response variables"
   ]
  },
  {
   "cell_type": "markdown",
   "id": "2088794e",
   "metadata": {},
   "source": [
    "num Df: the numerator degrees of freedom for the F statistic. "
   ]
  },
  {
   "cell_type": "markdown",
   "id": "5cb15543",
   "metadata": {},
   "source": [
    "den Df: the denominator degrees of freedom for the F statistic"
   ]
  },
  {
   "cell_type": "markdown",
   "id": "48f11fec",
   "metadata": {},
   "source": [
    "Pr(>F): the p-value for the F statistic."
   ]
  },
  {
   "cell_type": "markdown",
   "id": "8550fce0",
   "metadata": {},
   "source": [
    "### Mixed-Effects ANOVA:"
   ]
  },
  {
   "cell_type": "code",
   "execution_count": 23,
   "id": "a43c35cd",
   "metadata": {},
   "outputs": [
    {
     "name": "stderr",
     "output_type": "stream",
     "text": [
      "Loading required package: Matrix\n",
      "\n",
      "\n",
      "Attaching package: 'Matrix'\n",
      "\n",
      "\n",
      "The following objects are masked from 'package:tidyr':\n",
      "\n",
      "    expand, pack, unpack\n",
      "\n",
      "\n"
     ]
    },
    {
     "data": {
      "text/plain": [
       "Linear mixed model fit by REML ['lmerMod']\n",
       "Formula: Reaction ~ Days + (Days | Subject)\n",
       "   Data: sleepstudy\n",
       "\n",
       "REML criterion at convergence: 1743.6\n",
       "\n",
       "Scaled residuals: \n",
       "    Min      1Q  Median      3Q     Max \n",
       "-3.9536 -0.4634  0.0231  0.4634  5.1793 \n",
       "\n",
       "Random effects:\n",
       " Groups   Name        Variance Std.Dev. Corr\n",
       " Subject  (Intercept) 612.10   24.741       \n",
       "          Days         35.07    5.922   0.07\n",
       " Residual             654.94   25.592       \n",
       "Number of obs: 180, groups:  Subject, 18\n",
       "\n",
       "Fixed effects:\n",
       "            Estimate Std. Error t value\n",
       "(Intercept)  251.405      6.825  36.838\n",
       "Days          10.467      1.546   6.771\n",
       "\n",
       "Correlation of Fixed Effects:\n",
       "     (Intr)\n",
       "Days -0.138"
      ]
     },
     "metadata": {},
     "output_type": "display_data"
    }
   ],
   "source": [
    "# Load the lme4 package\n",
    "library(lme4)\n",
    "\n",
    "# Load the sleepstudy data from the lme4 package\n",
    "data(sleepstudy)\n",
    "\n",
    "# Fit a mixed-effects ANOVA model with the lmer function\n",
    "model <- lmer(Reaction ~ Days + (Days | Subject), data = sleepstudy)\n",
    "\n",
    "# Print the model summary\n",
    "summary(model)"
   ]
  },
  {
   "cell_type": "markdown",
   "id": "931045a8",
   "metadata": {},
   "source": [
    "The (Days | Subject) term in the formula specifies that the effect of Days on Reaction is allowed to vary across Subject."
   ]
  },
  {
   "cell_type": "markdown",
   "id": "f1a21f5c",
   "metadata": {},
   "source": [
    "The REML criterion is a measure of goodness-of-fit for a linear mixed effects model that is estimated using restricted maximum likelihood (REML) estimation. The REML criterion is based on the log-likelihood of the model, adjusted for the number of estimated parameters. A lower value of the REML criterion indicates a better fit of the model to the data."
   ]
  },
  {
   "cell_type": "markdown",
   "id": "f3c33fb8",
   "metadata": {},
   "source": [
    "##### Scaled residuals: "
   ]
  },
  {
   "cell_type": "markdown",
   "id": "8b8cc920",
   "metadata": {},
   "source": [
    "Scaled residuals are a diagnostic measure used to assess the goodness-of-fit of a statistical model. They are standardized residuals that are divided by their estimated standard deviation, and they represent the deviation of the observed values from the predicted values of the model, in terms of the number of standard deviations."
   ]
  },
  {
   "cell_type": "markdown",
   "id": "a15c46e3",
   "metadata": {},
   "source": [
    "These values provide information about the distribution of the residuals and can be used to identify any potential outliers or influential points in the data. In general, if the scaled residuals are within the range of -2 to 2, this indicates a good fit of the model to the data. However, if there are extreme values outside of this range, further investigation may be needed to understand why the model is not fitting well in those cases."
   ]
  },
  {
   "cell_type": "markdown",
   "id": "7b64f98d",
   "metadata": {},
   "source": [
    "#### Random effects"
   ]
  },
  {
   "cell_type": "markdown",
   "id": "fa128fc3",
   "metadata": {},
   "source": [
    "Random effects refer to the variability in the response variable that is not accounted for by the fixed effects of the model, but rather by the random variation among different groups or individuals in the study."
   ]
  },
  {
   "cell_type": "markdown",
   "id": "7bf14210",
   "metadata": {},
   "source": [
    "Finally, the residual variance is estimated to be 654.94, with a corresponding standard deviation of 25.592. This represents the variability in the response variable that is not explained by either the fixed or random effects of the model."
   ]
  },
  {
   "cell_type": "markdown",
   "id": "28caed27",
   "metadata": {},
   "source": [
    "The output also shows that the random slope variance for the \"Subject\" grouping factor with respect to the \"Days\" variable is 35.07, with a corresponding standard deviation of 5.922. Additionally, the estimated correlation between the random intercept and slope is 0.07, which suggests that subjects with higher intercepts tend to have slightly steeper slopes."
   ]
  },
  {
   "cell_type": "markdown",
   "id": "830eeae2",
   "metadata": {},
   "source": [
    "The output shows that the random intercept variance for the \"Subject\" grouping factor is 612.10, with a corresponding standard deviation of 24.741. This indicates that there is significant variability in the response variable among the different subjects in the study, beyond what can be explained by the fixed effects of the model."
   ]
  },
  {
   "cell_type": "markdown",
   "id": "2e5b70c4",
   "metadata": {},
   "source": [
    "#### Fixed effects:"
   ]
  },
  {
   "cell_type": "markdown",
   "id": "1d6a285d",
   "metadata": {},
   "source": [
    "In statistics, fixed effects refer to the parameters that are constant across all levels of a categorical variable. In the context of a linear regression model, fixed effects are represented by coefficients that do not vary across groups."
   ]
  },
  {
   "cell_type": "markdown",
   "id": "bf729d90",
   "metadata": {},
   "source": [
    "Looking at the output you provided, it seems to be from a linear regression model that includes a categorical variable with two or more levels. The output shows the estimated values, standard errors, and t-values for the intercept and the coefficient for the variable \"Days"
   ]
  },
  {
   "cell_type": "markdown",
   "id": "94c061b1",
   "metadata": {},
   "source": [
    "The intercept term represents the estimated mean value of the response variable when all other predictors in the model are set to zero. In this case, the intercept estimate is 251.405 with a standard error of 6.825 and a t-value of 36.838."
   ]
  },
  {
   "cell_type": "markdown",
   "id": "9db02759",
   "metadata": {},
   "source": [
    "The coefficient for \"Days\" represents the estimated change in the response variable for each unit increase in the \"Days\" variable, holding all other predictors constant. In this case, the coefficient estimate is 10.467 with a standard error of 1.546 and a t-value of 6.771."
   ]
  },
  {
   "cell_type": "markdown",
   "id": "83ecac0e",
   "metadata": {},
   "source": [
    "Overall, the output suggests that there is a significant relationship between the predictor variable \"Days\" and the response variable, after controlling for other predictors in the model. The fixed effects approach allows for estimation of the average effect of the predictor variable across all levels of the categorical variable."
   ]
  },
  {
   "cell_type": "markdown",
   "id": "70ccc91b",
   "metadata": {},
   "source": [
    "#### Correlation of Fixed Effects:"
   ]
  },
  {
   "cell_type": "markdown",
   "id": "443aec38",
   "metadata": {},
   "source": [
    "The output you provided appears to be from a linear mixed-effects model that includes a categorical variable with two or more levels, and a random intercept."
   ]
  },
  {
   "cell_type": "markdown",
   "id": "6db3bf9a",
   "metadata": {},
   "source": [
    "The value -0.138 represents the estimated correlation between the intercept and the effect of \"Days\" on the response variable, after accounting for the random intercept. A negative correlation between the intercept and the effect of \"Days\" suggests that the effect of \"Days\" is weaker for observations with higher values of the intercept (i.e., for certain groups or levels of the categorical variable) compared to observations with lower values of the intercept."
   ]
  },
  {
   "cell_type": "markdown",
   "id": "e45a7511",
   "metadata": {},
   "source": [
    "It is important to note that the correlation of fixed effects in a linear mixed-effects model can have implications for the interpretation of the model's results. In some cases, the correlation may suggest that the effects of certain predictors are not consistent across all levels of the categorical variable, which may require further investigation or adjustment in the model."
   ]
  },
  {
   "cell_type": "code",
   "execution_count": null,
   "id": "ec8d737a",
   "metadata": {},
   "outputs": [],
   "source": []
  }
 ],
 "metadata": {
  "kernelspec": {
   "display_name": "R",
   "language": "R",
   "name": "ir"
  },
  "language_info": {
   "codemirror_mode": "r",
   "file_extension": ".r",
   "mimetype": "text/x-r-source",
   "name": "R",
   "pygments_lexer": "r",
   "version": "4.1.3"
  }
 },
 "nbformat": 4,
 "nbformat_minor": 5
}
