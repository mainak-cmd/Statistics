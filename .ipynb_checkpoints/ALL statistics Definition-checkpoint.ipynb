{
 "cells": [
  {
   "cell_type": "markdown",
   "id": "00ffd706",
   "metadata": {},
   "source": [
    "Hypothesis Testing is a statistical tool, that allows the resemblance of two or more process attributes – mean, median, and standard deviation."
   ]
  },
  {
   "cell_type": "markdown",
   "id": "12a0eca0",
   "metadata": {},
   "source": [
    "An important part of a conclusion reached based on random sampling (statistical inference)"
   ]
  },
  {
   "cell_type": "markdown",
   "id": "3c533031",
   "metadata": {},
   "source": [
    "### A hypothesis is a statement we want to verify using data"
   ]
  },
  {
   "cell_type": "markdown",
   "id": "583fa27a",
   "metadata": {},
   "source": [
    "is there a difference?"
   ]
  },
  {
   "cell_type": "markdown",
   "id": "2692d354",
   "metadata": {},
   "source": [
    "has there been a change?"
   ]
  },
  {
   "cell_type": "markdown",
   "id": "a04460c6",
   "metadata": {},
   "source": [
    "Null and Alternative hypotheses are formed\n",
    "Level of risk and confidence required"
   ]
  },
  {
   "cell_type": "markdown",
   "id": "d96b7656",
   "metadata": {},
   "source": [
    "### Experimentation is conducted, and interpret the results"
   ]
  },
  {
   "cell_type": "markdown",
   "id": "b200b75f",
   "metadata": {},
   "source": [
    "Null” hypothesis (H0) :This statement states no significant change will be observed. Any differences detected are purely due to chance and not a change in the process"
   ]
  },
  {
   "cell_type": "markdown",
   "id": "b5b2d64c",
   "metadata": {},
   "source": [
    "Fail to reject the null hypothesis :\n",
    "No change. No difference, or…"
   ]
  },
  {
   "cell_type": "markdown",
   "id": "7afcdba3",
   "metadata": {},
   "source": [
    "Reject the null hypothesis :\n",
    "There is a change, a difference ,If the p is low, the null must go"
   ]
  },
  {
   "cell_type": "markdown",
   "id": "023d3082",
   "metadata": {},
   "source": [
    "To reject the null hypothesis in hypothesis testing,  a p-value that is less than the pre-determined significance level (usually 0.05)"
   ]
  },
  {
   "cell_type": "markdown",
   "id": "14c5b26c",
   "metadata": {},
   "source": [
    "“Alternative” hypothesis (H1):This is a statement that there will be a difference in statistical significance detected; there has been a change."
   ]
  },
  {
   "cell_type": "markdown",
   "id": "2d04bb66",
   "metadata": {},
   "source": [
    "### Testing for a Change or Difference in Process"
   ]
  },
  {
   "cell_type": "markdown",
   "id": "3e8f1aee",
   "metadata": {},
   "source": [
    "Central Tendency :\n",
    "Mean, Median, Mode"
   ]
  },
  {
   "cell_type": "markdown",
   "id": "0c60ed77",
   "metadata": {},
   "source": [
    "Variation:\n",
    "Variance, Standard Deviation"
   ]
  },
  {
   "cell_type": "markdown",
   "id": "a6ee5ec6",
   "metadata": {},
   "source": [
    "Proportion:\n",
    "% (ratio, proportion)"
   ]
  },
  {
   "cell_type": "markdown",
   "id": "cf77342e",
   "metadata": {},
   "source": [
    "Frequency (of occurrence):\n",
    "Distribution of count/frequency"
   ]
  },
  {
   "cell_type": "markdown",
   "id": "db50fb7f",
   "metadata": {},
   "source": [
    "## Parametric tests "
   ]
  },
  {
   "cell_type": "markdown",
   "id": "3b00fd0e",
   "metadata": {},
   "source": [
    "### Normality:"
   ]
  },
  {
   "cell_type": "markdown",
   "id": "b89a1c7d",
   "metadata": {},
   "source": [
    "The data being analyzed should be normally distributed. \n",
    "This means that the distribution of the data should be symmetrical around the mean, and the majority of the data should fall within one standard deviation of the mean."
   ]
  },
  {
   "cell_type": "markdown",
   "id": "79099e53",
   "metadata": {},
   "source": [
    "Shapiro-Wilk test ,Kolmogorov-Smirnov test ,Anderson-Darling test\n"
   ]
  },
  {
   "cell_type": "markdown",
   "id": "eb358071",
   "metadata": {},
   "source": [
    "The null hypothesis is that the sample comes from a normal distribution."
   ]
  },
  {
   "cell_type": "markdown",
   "id": "c064e4b9",
   "metadata": {},
   "source": [
    "p-value less than the significance level indicates that the null hypothesis can be rejected and the data are not normally distributed."
   ]
  },
  {
   "cell_type": "markdown",
   "id": "14c93d9a",
   "metadata": {},
   "source": [
    "### Homogeneity of variances"
   ]
  },
  {
   "cell_type": "markdown",
   "id": "b415014b",
   "metadata": {},
   "source": [
    "The variance of the data should be approximately equal across groups being compared.\n",
    "the spread of the data should be similar across different groups being analyzed."
   ]
  },
  {
   "cell_type": "markdown",
   "id": "19cdde5f",
   "metadata": {},
   "source": [
    "Levene's test ,Bartlett's tes "
   ]
  },
  {
   "cell_type": "markdown",
   "id": "03189d84",
   "metadata": {},
   "source": [
    "The null hypothesis is that the variances are equal. "
   ]
  },
  {
   "cell_type": "markdown",
   "id": "51b0f17d",
   "metadata": {},
   "source": [
    "A p-value less than the significance level indicates that the null hypothesis can be rejected and the variances are not equal.\n",
    "\n"
   ]
  },
  {
   "cell_type": "markdown",
   "id": "d23c9b4c",
   "metadata": {},
   "source": [
    "### Independence"
   ]
  },
  {
   "cell_type": "markdown",
   "id": "6e16486e",
   "metadata": {},
   "source": [
    "The observations being analyzed should be independent of one another. "
   ]
  },
  {
   "cell_type": "markdown",
   "id": "7ba865e7",
   "metadata": {},
   "source": [
    "#### categorical variables"
   ]
  },
  {
   "cell_type": "markdown",
   "id": "62777882",
   "metadata": {},
   "source": [
    "Chi-squared test ,Fisher's exact test(when the sample size is small or the expected frequencies are low) ,Spearman's rank correlation coefficient"
   ]
  },
  {
   "cell_type": "markdown",
   "id": "89a2f38c",
   "metadata": {},
   "source": [
    "The test statistic is calculated based on the difference between the observed frequencies and the expected frequencies "
   ]
  },
  {
   "cell_type": "markdown",
   "id": "d8e1e45e",
   "metadata": {},
   "source": [
    "If the the variables are not independent p-value less than the significance level (typically 0.05) indicates that the null hypothesis can be rejected"
   ]
  },
  {
   "cell_type": "markdown",
   "id": "f51348e4",
   "metadata": {},
   "source": [
    "#### continuous variables"
   ]
  },
  {
   "cell_type": "markdown",
   "id": "bf4661fd",
   "metadata": {},
   "source": [
    "Pearson correlation coefficient: This test is used to test for the independence between two continuous variables. The test statistic is based on the difference between the observed and expected covariance"
   ]
  },
  {
   "cell_type": "markdown",
   "id": "b0823ee9",
   "metadata": {},
   "source": [
    "### Randomnes"
   ]
  },
  {
   "cell_type": "markdown",
   "id": "41fc8918",
   "metadata": {},
   "source": [
    "The data being analyzed should be randomly sampled from the population of interest."
   ]
  },
  {
   "cell_type": "markdown",
   "id": "f99aef4c",
   "metadata": {},
   "source": [
    "#### categorical variables"
   ]
  },
  {
   "cell_type": "markdown",
   "id": "40a97818",
   "metadata": {},
   "source": [
    "Runs test: This test is used to test for randomness in a sequence of binary data (i.e. data that takes on only two values, such as 0 and 1)."
   ]
  },
  {
   "cell_type": "markdown",
   "id": "721a0001",
   "metadata": {},
   "source": [
    "Chi-squared goodness-of-fit test: This test can be used to test for randomness in a sequence of categorical data (i.e. data that takes on more than two values). "
   ]
  },
  {
   "cell_type": "markdown",
   "id": "80ffbd65",
   "metadata": {},
   "source": [
    "#### continuous data"
   ]
  },
  {
   "cell_type": "markdown",
   "id": "483d6dc2",
   "metadata": {},
   "source": [
    "Kolmogorov-Smirnov test: This test can be used to test for randomness in a sequence of continuous data. "
   ]
  },
  {
   "cell_type": "markdown",
   "id": "ebbf9d7e",
   "metadata": {},
   "source": [
    "#### Time series data"
   ]
  },
  {
   "cell_type": "markdown",
   "id": "3938eacb",
   "metadata": {},
   "source": [
    "Autocorrelation test: This test can be used to test for randomness in a time series data by checking whether the data points at different times are correlated with each other. "
   ]
  },
  {
   "cell_type": "markdown",
   "id": "f2779c4e",
   "metadata": {},
   "source": [
    "## Nonparametric tests"
   ]
  },
  {
   "cell_type": "markdown",
   "id": "f68b5247",
   "metadata": {},
   "source": [
    "Nonparametric tests are statistical tests that do not make assumptions about the underlying distribution of the data. These tests are also known as distribution-free tests, as they do not require the data to be normally distributed or have a specific shape."
   ]
  },
  {
   "cell_type": "markdown",
   "id": "ac787967",
   "metadata": {},
   "source": [
    "Brown-Forsythe test: This test is a modified version of Levene's test for Homogeneity of variances and is used when the data are not normally distributed."
   ]
  },
  {
   "cell_type": "markdown",
   "id": "a956cc99",
   "metadata": {},
   "source": [
    "Kolmogorov-Smirnov test: This test is used to test for the independence between two continuous variables when the distributions are not assumed to be normal"
   ]
  },
  {
   "cell_type": "markdown",
   "id": "c33abc03",
   "metadata": {},
   "source": [
    "## Hypothisis testing for Central Tendency"
   ]
  },
  {
   "cell_type": "markdown",
   "id": "0ea5f54d",
   "metadata": {},
   "source": [
    "Hypothesis testing for central tendency is used to determine whether there is a significant difference between the mean, median or mode of two or more groups"
   ]
  },
  {
   "cell_type": "markdown",
   "id": "c8ff5e3a",
   "metadata": {},
   "source": [
    "#### Mode"
   ]
  },
  {
   "cell_type": "markdown",
   "id": "86844b92",
   "metadata": {},
   "source": [
    "In some cases, the mode may be used as a measure of central tendency when the data is categorical or nominal in nature. In such cases, the chi-square test can be used to determine whether there is a significant difference in the frequencies of categories between two or more groups."
   ]
  },
  {
   "cell_type": "markdown",
   "id": "0ae62c2c",
   "metadata": {},
   "source": [
    "The chi-square test is used when the data is categorical in nature and the expected distribution is known. "
   ]
  },
  {
   "cell_type": "markdown",
   "id": "1c244584",
   "metadata": {},
   "source": [
    "Fisher's exact test is used when the data is categorical in nature and the expected distribution is not known"
   ]
  },
  {
   "cell_type": "markdown",
   "id": "91dab3f5",
   "metadata": {},
   "source": [
    "The G-test is similar to the chi-square test and is also used when the data is categorical in nature. However, the G-test uses maximum likelihood estimation to estimate the expected frequencies, "
   ]
  },
  {
   "cell_type": "markdown",
   "id": "323235e4",
   "metadata": {},
   "source": [
    "The test compares the observed frequencies with the expected frequencies and calculates a chi-square ,fisher or gtest  statistic, which can be used to determine whether the observed distribution differs significantly from the expected distribution."
   ]
  },
  {
   "cell_type": "markdown",
   "id": "0f8f4762",
   "metadata": {},
   "source": [
    "### median"
   ]
  },
  {
   "cell_type": "markdown",
   "id": "cc99029b",
   "metadata": {},
   "source": [
    "Hypothesis testing for the distribution of median is a type of non-parametric hypothesis testing. The goal of this type of hypothesis testing is to determine whether the observed distribution of median values differs significantly from an expected distribution."
   ]
  },
  {
   "cell_type": "markdown",
   "id": "46ada21b",
   "metadata": {},
   "source": [
    "sign test : is a non-parametric statistical test used to determine whether the median of a distribution differs significantly from a hypothesized value. It is a simple and powerful test that is appropriate for non-normally distributed data or small sample sizes."
   ]
  },
  {
   "cell_type": "markdown",
   "id": "ff770627",
   "metadata": {},
   "source": [
    "The Wilcoxon rank-sum test: is used when comparing two independent samples,"
   ]
  },
  {
   "cell_type": "markdown",
   "id": "0adbcdf7",
   "metadata": {},
   "source": [
    "Wilcoxon signed-rank test : is used when comparing two related samples."
   ]
  },
  {
   "cell_type": "markdown",
   "id": "90e088b6",
   "metadata": {},
   "source": [
    "The Kruskal-Wallis test :  is used when comparing more than two independent samples. This test ranks the observations across all the samples and calculates a test statistic that can be used to determine whether the medians of the samples differ significantly."
   ]
  },
  {
   "cell_type": "markdown",
   "id": "2336566b",
   "metadata": {},
   "source": [
    "median test:  used to determine whether there are significant differences in medians between two or more groups. It is appropriate when the assumptions of normality and equal variances are not met."
   ]
  },
  {
   "cell_type": "markdown",
   "id": "c18d8555",
   "metadata": {},
   "source": [
    "the Friedman test : is a non-parametric statistical test used to determine whether there are significant differences among three or more groups based on repeated measures of a dependent variable. It is a powerful alternative to the one-way ANOVA test when the assumptions of normality and homogeneity of variances are not met."
   ]
  },
  {
   "cell_type": "markdown",
   "id": "eec2d463",
   "metadata": {},
   "source": [
    "Repeated measures refer to a type of experimental design in which the same subjects are tested multiple times under different conditions or at different time points. This design is often used in medical and psychological research to study changes over time or the effects of treatments."
   ]
  },
  {
   "cell_type": "markdown",
   "id": "1d32bc97",
   "metadata": {},
   "source": [
    "### Mean"
   ]
  },
  {
   "cell_type": "markdown",
   "id": "2dc950b3",
   "metadata": {},
   "source": [
    "ANOVA : is used when there are two or more independent groups to compare, and the outcome variable is continuous. It is a parametric test that assumes that the data is normally distributed, the variances are equal across the groups, and the observations are independent."
   ]
  },
  {
   "cell_type": "markdown",
   "id": "8ed1eedf",
   "metadata": {},
   "source": [
    "Regression :is a statistical method used to investigate the relationship between one or more independent variables and a dependent variable. "
   ]
  },
  {
   "cell_type": "markdown",
   "id": "cc4986d0",
   "metadata": {},
   "source": [
    "A t-test : is a statistical hypothesis test used to compare the means of two samples. It is a parametric test that assumes the data follows a normal distribution and the variance of the two groups being compared is equal."
   ]
  },
  {
   "cell_type": "markdown",
   "id": "8e951187",
   "metadata": {},
   "source": [
    "A z-test : statistical hypothesis test used to compare the means of a sample to a known population mean. It is a parametric test that assumes the data follows a normal distribution and the variance of the population is known.\n",
    "\n",
    "The z-test is used when the sample size is large (typically n > 30) "
   ]
  },
  {
   "cell_type": "markdown",
   "id": "47fdb02a",
   "metadata": {},
   "source": [
    "## Hypothisis testing for Variences and SD"
   ]
  },
  {
   "cell_type": "markdown",
   "id": "8bfdffbd",
   "metadata": {},
   "source": [
    "Hypothesis testing for variances and standard deviations involves testing whether the variance or standard deviation of a population is equal to a specific value or not."
   ]
  },
  {
   "cell_type": "markdown",
   "id": "2d8181b5",
   "metadata": {},
   "source": [
    "Chi-squared test: This test is used to test the variance of a normally distributed population. The null hypothesis is that the variance is equal to a specified value, and the test statistic is calculated as the ratio of the sample variance to the specified value multiplied by the sample size minus one"
   ]
  },
  {
   "cell_type": "markdown",
   "id": "93bb0d51",
   "metadata": {},
   "source": [
    "The F-test : is used to compare the variances of two populations, assuming that both populations are normally distributed. "
   ]
  },
  {
   "cell_type": "markdown",
   "id": "77db29da",
   "metadata": {},
   "source": [
    "Levene's test: This test is a nonparametric alternative to the F-test and is used to test for homogeneity of variances in two or more groups. "
   ]
  },
  {
   "cell_type": "markdown",
   "id": "5ee563a3",
   "metadata": {},
   "source": [
    "Bartlett's Test: This test can also be used to test whether the variances of two or more populations are equal, but it assumes that the populations are normally distributed"
   ]
  },
  {
   "cell_type": "markdown",
   "id": "4151010a",
   "metadata": {},
   "source": [
    "Brown-Forsythe test: This test is a nonparametric alternative to Bartlett's test and is used to test for homogeneity of variances when the populations are not normally distributed. "
   ]
  },
  {
   "cell_type": "markdown",
   "id": "284f8f2c",
   "metadata": {},
   "source": [
    "## Hypothisis testing Proportion: % (ratio, proportion)"
   ]
  },
  {
   "cell_type": "markdown",
   "id": "e7c6daf6",
   "metadata": {},
   "source": [
    "Hypothesis testing for proportion is used to make inferences about the population proportion based on a sample proportion. This type of hypothesis testing is typically used in situations where the variable of interest is categorical (e.g., yes/no, success/failure, etc.) and we want to know whether the proportion of individuals in the population who exhibit a certain characteristic is different from a hypothesized value."
   ]
  },
  {
   "cell_type": "markdown",
   "id": "02d0c8cb",
   "metadata": {},
   "source": [
    "One-sample z-test: This test can be used to test whether a sample proportion is significantly different from a hypothesized population proportion."
   ]
  },
  {
   "cell_type": "markdown",
   "id": "254270c9",
   "metadata": {},
   "source": [
    "Two-sample z-test: This test can be used to compare two sample proportions to each other to determine if they are significantly different."
   ]
  },
  {
   "cell_type": "markdown",
   "id": "95445715",
   "metadata": {},
   "source": [
    "Chi-square test of independence: This test can be used to test whether there is a relationship between two categorical variables, including proportions."
   ]
  },
  {
   "cell_type": "markdown",
   "id": "02dd63a3",
   "metadata": {},
   "source": [
    "Fisher's exact test: This test can be used to test for significant differences between proportions in two groups when the sample size is small."
   ]
  },
  {
   "cell_type": "markdown",
   "id": "d9787813",
   "metadata": {},
   "source": [
    "McNemar's test: This test can be used to test for significant differences in proportions between two related groups (e.g., pre- and post-treatment)."
   ]
  },
  {
   "cell_type": "markdown",
   "id": "809eeeb4",
   "metadata": {},
   "source": [
    "Binomial test: This test can be used to test whether a proportion is significantly different from a hypothesized value when the sample size is small."
   ]
  },
  {
   "cell_type": "markdown",
   "id": "ad6b3f33",
   "metadata": {},
   "source": [
    "## Hypothisis testing Frequency (of occurrence): Distribution of count/frequency"
   ]
  },
  {
   "cell_type": "markdown",
   "id": "3f4b4f7f",
   "metadata": {},
   "source": [
    "Chi-Square Test: This test is used to determine if there is a significant difference between the observed and expected frequencies of a categorical variable."
   ]
  },
  {
   "cell_type": "markdown",
   "id": "d6dc43a0",
   "metadata": {},
   "source": [
    "Poisson Test: This test is used to determine if the observed count data follows a Poisson distribution (i.e., whether the data is random and independent)."
   ]
  },
  {
   "cell_type": "markdown",
   "id": "3a9dee36",
   "metadata": {},
   "source": [
    "Binomial Test: This test is used to determine if the observed count data follows a binomial distribution (i.e., whether the data is binary and independent)."
   ]
  },
  {
   "cell_type": "markdown",
   "id": "81bf50b7",
   "metadata": {},
   "source": [
    "McNemar's Test: This test is used to determine if there is a significant difference between two paired samples that are measured on a dichotomous (i.e., binary) variable."
   ]
  },
  {
   "cell_type": "markdown",
   "id": "1251b403",
   "metadata": {},
   "source": [
    "Fisher's Exact Test: This test is used to determine if there is a significant association between two categorical variables when the sample size is small."
   ]
  },
  {
   "cell_type": "code",
   "execution_count": null,
   "id": "ccc9c8d4",
   "metadata": {},
   "outputs": [],
   "source": []
  }
 ],
 "metadata": {
  "kernelspec": {
   "display_name": "Python 3 (ipykernel)",
   "language": "python",
   "name": "python3"
  },
  "language_info": {
   "codemirror_mode": {
    "name": "ipython",
    "version": 3
   },
   "file_extension": ".py",
   "mimetype": "text/x-python",
   "name": "python",
   "nbconvert_exporter": "python",
   "pygments_lexer": "ipython3",
   "version": "3.10.9"
  }
 },
 "nbformat": 4,
 "nbformat_minor": 5
}
