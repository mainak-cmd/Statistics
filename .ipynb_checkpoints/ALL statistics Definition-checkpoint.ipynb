{
 "cells": [
  {
   "cell_type": "markdown",
   "id": "00ffd706",
   "metadata": {},
   "source": [
    "Hypothesis Testing is a statistical tool, that allows the resemblance of two or more process attributes – mean, median, and standard deviation."
   ]
  },
  {
   "cell_type": "markdown",
   "id": "12a0eca0",
   "metadata": {},
   "source": [
    "An important part of a conclusion reached based on random sampling (statistical inference)"
   ]
  },
  {
   "cell_type": "markdown",
   "id": "3c533031",
   "metadata": {},
   "source": [
    "### A hypothesis is a statement we want to verify using data"
   ]
  },
  {
   "cell_type": "markdown",
   "id": "583fa27a",
   "metadata": {},
   "source": [
    "is there a difference?"
   ]
  },
  {
   "cell_type": "markdown",
   "id": "2692d354",
   "metadata": {},
   "source": [
    "has there been a change?"
   ]
  },
  {
   "cell_type": "markdown",
   "id": "a04460c6",
   "metadata": {},
   "source": [
    "Null and Alternative hypotheses are formed\n",
    "Level of risk and confidence required"
   ]
  },
  {
   "cell_type": "markdown",
   "id": "d96b7656",
   "metadata": {},
   "source": [
    "### Experimentation is conducted, and interpret the results"
   ]
  },
  {
   "cell_type": "markdown",
   "id": "b200b75f",
   "metadata": {},
   "source": [
    "Null” hypothesis (H0) :This statement states no significant change will be observed. Any differences detected are purely due to chance and not a change in the process"
   ]
  },
  {
   "cell_type": "markdown",
   "id": "b5b2d64c",
   "metadata": {},
   "source": [
    "Fail to reject the null hypothesis :\n",
    "No change. No difference, or…"
   ]
  },
  {
   "cell_type": "markdown",
   "id": "7afcdba3",
   "metadata": {},
   "source": [
    "Reject the null hypothesis :\n",
    "There is a change, a difference ,If the p is low, the null must go"
   ]
  },
  {
   "cell_type": "markdown",
   "id": "023d3082",
   "metadata": {},
   "source": [
    "To reject the null hypothesis in hypothesis testing,  a p-value that is less than the pre-determined significance level (usually 0.05)"
   ]
  },
  {
   "cell_type": "markdown",
   "id": "14c5b26c",
   "metadata": {},
   "source": [
    "“Alternative” hypothesis (H1):This is a statement that there will be a difference in statistical significance detected; there has been a change."
   ]
  },
  {
   "cell_type": "markdown",
   "id": "2d04bb66",
   "metadata": {},
   "source": [
    "### Testing for a Change or Difference in Process"
   ]
  },
  {
   "cell_type": "markdown",
   "id": "3e8f1aee",
   "metadata": {},
   "source": [
    "Central Tendency :\n",
    "Mean, Median, Mode"
   ]
  },
  {
   "cell_type": "markdown",
   "id": "0c60ed77",
   "metadata": {},
   "source": [
    "Variation:\n",
    "Variance, Standard Deviation"
   ]
  },
  {
   "cell_type": "markdown",
   "id": "a6ee5ec6",
   "metadata": {},
   "source": [
    "Proportion:\n",
    "% (ratio, proportion)"
   ]
  },
  {
   "cell_type": "markdown",
   "id": "cf77342e",
   "metadata": {},
   "source": [
    "Frequency (of occurrence):\n",
    "Distribution of count/frequency"
   ]
  },
  {
   "cell_type": "markdown",
   "id": "db50fb7f",
   "metadata": {},
   "source": [
    "## Parametric tests "
   ]
  },
  {
   "cell_type": "markdown",
   "id": "3b00fd0e",
   "metadata": {},
   "source": [
    "### Normality:"
   ]
  },
  {
   "cell_type": "markdown",
   "id": "b89a1c7d",
   "metadata": {},
   "source": [
    "The data being analyzed should be normally distributed. \n",
    "This means that the distribution of the data should be symmetrical around the mean, and the majority of the data should fall within one standard deviation of the mean."
   ]
  },
  {
   "cell_type": "markdown",
   "id": "79099e53",
   "metadata": {},
   "source": [
    "Shapiro-Wilk test ,Kolmogorov-Smirnov test ,Anderson-Darling test\n"
   ]
  },
  {
   "cell_type": "markdown",
   "id": "eb358071",
   "metadata": {},
   "source": [
    "The null hypothesis is that the sample comes from a normal distribution."
   ]
  },
  {
   "cell_type": "markdown",
   "id": "c064e4b9",
   "metadata": {},
   "source": [
    "p-value less than the significance level indicates that the null hypothesis can be rejected and the data are not normally distributed."
   ]
  },
  {
   "cell_type": "markdown",
   "id": "14c93d9a",
   "metadata": {},
   "source": [
    "### Homogeneity of variances"
   ]
  },
  {
   "cell_type": "markdown",
   "id": "b415014b",
   "metadata": {},
   "source": [
    "The variance of the data should be approximately equal across groups being compared.\n",
    "the spread of the data should be similar across different groups being analyzed."
   ]
  },
  {
   "cell_type": "markdown",
   "id": "19cdde5f",
   "metadata": {},
   "source": [
    "Levene's test ,Bartlett's tes "
   ]
  },
  {
   "cell_type": "markdown",
   "id": "03189d84",
   "metadata": {},
   "source": [
    "The null hypothesis is that the variances are equal. "
   ]
  },
  {
   "cell_type": "markdown",
   "id": "51b0f17d",
   "metadata": {},
   "source": [
    "A p-value less than the significance level indicates that the null hypothesis can be rejected and the variances are not equal.\n",
    "\n"
   ]
  },
  {
   "cell_type": "markdown",
   "id": "d23c9b4c",
   "metadata": {},
   "source": [
    "### Independence"
   ]
  },
  {
   "cell_type": "markdown",
   "id": "6e16486e",
   "metadata": {},
   "source": [
    "The observations being analyzed should be independent of one another. "
   ]
  },
  {
   "cell_type": "markdown",
   "id": "7ba865e7",
   "metadata": {},
   "source": [
    "#### categorical variables"
   ]
  },
  {
   "cell_type": "markdown",
   "id": "62777882",
   "metadata": {},
   "source": [
    "Chi-squared test ,Fisher's exact test(when the sample size is small or the expected frequencies are low) ,Spearman's rank correlation coefficient"
   ]
  },
  {
   "cell_type": "markdown",
   "id": "89a2f38c",
   "metadata": {},
   "source": [
    "The test statistic is calculated based on the difference between the observed frequencies and the expected frequencies "
   ]
  },
  {
   "cell_type": "markdown",
   "id": "d8e1e45e",
   "metadata": {},
   "source": [
    "If the the variables are not independent p-value less than the significance level (typically 0.05) indicates that the null hypothesis can be rejected"
   ]
  },
  {
   "cell_type": "markdown",
   "id": "f51348e4",
   "metadata": {},
   "source": [
    "#### continuous variables"
   ]
  },
  {
   "cell_type": "markdown",
   "id": "bf4661fd",
   "metadata": {},
   "source": [
    "Pearson correlation coefficient: This test is used to test for the independence between two continuous variables. The test statistic is based on the difference between the observed and expected covariance"
   ]
  },
  {
   "cell_type": "markdown",
   "id": "b0823ee9",
   "metadata": {},
   "source": [
    "### Randomnes"
   ]
  },
  {
   "cell_type": "markdown",
   "id": "41fc8918",
   "metadata": {},
   "source": [
    "The data being analyzed should be randomly sampled from the population of interest."
   ]
  },
  {
   "cell_type": "markdown",
   "id": "f99aef4c",
   "metadata": {},
   "source": [
    "#### categorical variables"
   ]
  },
  {
   "cell_type": "markdown",
   "id": "40a97818",
   "metadata": {},
   "source": [
    "Runs test: This test is used to test for randomness in a sequence of binary data (i.e. data that takes on only two values, such as 0 and 1)."
   ]
  },
  {
   "cell_type": "markdown",
   "id": "721a0001",
   "metadata": {},
   "source": [
    "Chi-squared goodness-of-fit test: This test can be used to test for randomness in a sequence of categorical data (i.e. data that takes on more than two values). "
   ]
  },
  {
   "cell_type": "markdown",
   "id": "80ffbd65",
   "metadata": {},
   "source": [
    "#### continuous data"
   ]
  },
  {
   "cell_type": "markdown",
   "id": "483d6dc2",
   "metadata": {},
   "source": [
    "Kolmogorov-Smirnov test: This test can be used to test for randomness in a sequence of continuous data. "
   ]
  },
  {
   "cell_type": "markdown",
   "id": "ebbf9d7e",
   "metadata": {},
   "source": [
    "#### Time series data"
   ]
  },
  {
   "cell_type": "markdown",
   "id": "3938eacb",
   "metadata": {},
   "source": [
    "Autocorrelation test: This test can be used to test for randomness in a time series data by checking whether the data points at different times are correlated with each other. "
   ]
  },
  {
   "cell_type": "markdown",
   "id": "f2779c4e",
   "metadata": {},
   "source": [
    "## Nonparametric tests"
   ]
  },
  {
   "cell_type": "markdown",
   "id": "f68b5247",
   "metadata": {},
   "source": [
    "Nonparametric tests are statistical tests that do not make assumptions about the underlying distribution of the data. These tests are also known as distribution-free tests, as they do not require the data to be normally distributed or have a specific shape."
   ]
  },
  {
   "cell_type": "markdown",
   "id": "ac787967",
   "metadata": {},
   "source": [
    "Brown-Forsythe test: This test is a modified version of Levene's test for Homogeneity of variances and is used when the data are not normally distributed."
   ]
  },
  {
   "cell_type": "markdown",
   "id": "a956cc99",
   "metadata": {},
   "source": [
    "Kolmogorov-Smirnov test: This test is used to test for the independence between two continuous variables when the distributions are not assumed to be normal"
   ]
  },
  {
   "cell_type": "markdown",
   "id": "c33abc03",
   "metadata": {},
   "source": [
    "## Hypothisis testing for Central Tendency"
   ]
  },
  {
   "cell_type": "markdown",
   "id": "0ea5f54d",
   "metadata": {},
   "source": [
    "Hypothesis testing for central tendency is used to determine whether there is a significant difference between the mean, median or mode of two or more groups"
   ]
  },
  {
   "cell_type": "markdown",
   "id": "c8ff5e3a",
   "metadata": {},
   "source": [
    "#### Mode"
   ]
  },
  {
   "cell_type": "markdown",
   "id": "86844b92",
   "metadata": {},
   "source": [
    "In some cases, the mode may be used as a measure of central tendency when the data is categorical or nominal in nature. In such cases, the chi-square test can be used to determine whether there is a significant difference in the frequencies of categories between two or more groups."
   ]
  },
  {
   "cell_type": "markdown",
   "id": "0ae62c2c",
   "metadata": {},
   "source": [
    "The chi-square test is used when the data is categorical in nature and the expected distribution is known. "
   ]
  },
  {
   "cell_type": "markdown",
   "id": "1c244584",
   "metadata": {},
   "source": [
    "Fisher's exact test is used when the data is categorical in nature and the expected distribution is not known"
   ]
  },
  {
   "cell_type": "markdown",
   "id": "91dab3f5",
   "metadata": {},
   "source": [
    "The G-test is similar to the chi-square test and is also used when the data is categorical in nature. However, the G-test uses maximum likelihood estimation to estimate the expected frequencies, "
   ]
  },
  {
   "cell_type": "markdown",
   "id": "323235e4",
   "metadata": {},
   "source": [
    "The test compares the observed frequencies with the expected frequencies and calculates a chi-square ,fisher or gtest  statistic, which can be used to determine whether the observed distribution differs significantly from the expected distribution."
   ]
  },
  {
   "cell_type": "code",
   "execution_count": null,
   "id": "d3380319",
   "metadata": {},
   "outputs": [],
   "source": []
  }
 ],
 "metadata": {
  "kernelspec": {
   "display_name": "Python 3 (ipykernel)",
   "language": "python",
   "name": "python3"
  },
  "language_info": {
   "codemirror_mode": {
    "name": "ipython",
    "version": 3
   },
   "file_extension": ".py",
   "mimetype": "text/x-python",
   "name": "python",
   "nbconvert_exporter": "python",
   "pygments_lexer": "ipython3",
   "version": "3.10.9"
  }
 },
 "nbformat": 4,
 "nbformat_minor": 5
}
