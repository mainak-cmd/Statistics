{
 "cells": [
  {
   "cell_type": "markdown",
   "id": "003b05ca",
   "metadata": {},
   "source": [
    "A/B testing is commonly used in online marketing and user experience design to optimize website conversion rates, increase click-through rates, and improve overall user engagement. By testing different variations of a design or feature, businesses can make data-driven decisions about what changes to implement to improve performance."
   ]
  },
  {
   "cell_type": "markdown",
   "id": "cb72197d",
   "metadata": {},
   "source": [
    "The statistical tests used in A/B testing typically involve comparing the means or proportions of the two groups using techniques such as t-tests or chi-square tests. The results of the tests can help determine whether the observed differences between the groups are statistically significant or due to chance."
   ]
  },
  {
   "cell_type": "markdown",
   "id": "f5e3b28b",
   "metadata": {},
   "source": [
    "It involves randomly dividing a sample group into two groups - one group is shown the original version (control group) and the other group is shown a modified version (experimental group). The groups are then compared to see which version produces the desired outcome."
   ]
  },
  {
   "cell_type": "markdown",
   "id": "60ed4776",
   "metadata": {},
   "source": [
    "## The statistical tests"
   ]
  },
  {
   "cell_type": "markdown",
   "id": "477e5243",
   "metadata": {},
   "source": [
    "T-test: A t-test is used to compare the means of two groups. In A/B testing, a t-test can be used to determine if there is a statistically significant difference in the conversion rates of two versions of a website or app"
   ]
  },
  {
   "cell_type": "markdown",
   "id": "c47929f8",
   "metadata": {},
   "source": [
    "Chi-squared test: A chi-squared test is used to determine if there is a significant difference between the observed frequencies and the expected frequencies of categorical data. In A/B testing, a chi-squared test can be used to determine if there is a significant difference in the number of conversions between two versions of a website or app."
   ]
  },
  {
   "cell_type": "markdown",
   "id": "b50324d2",
   "metadata": {},
   "source": [
    "ANOVA: Analysis of variance (ANOVA) is a statistical test used to compare the means of three or more groups. In A/B testing, ANOVA can be used to determine if there is a significant difference in conversion rates between more than two versions of a website or app."
   ]
  },
  {
   "cell_type": "markdown",
   "id": "d67534a8",
   "metadata": {},
   "source": [
    "Bayesian analysis: Bayesian analysis is a statistical method that can be used to update the probability of a hypothesis as new data becomes available. In A/B testing, Bayesian analysis can be used to determine the probability that one version of a website or app is better than another."
   ]
  },
  {
   "cell_type": "markdown",
   "id": "2e745dca",
   "metadata": {},
   "source": [
    "Regression analysis: Regression analysis is a statistical method used to analyze the relationship between one dependent variable and one or more independent variables. In A/B testing, regression analysis can be used to determine if there is a relationship between the version of a website or app and the conversion rate."
   ]
  },
  {
   "cell_type": "markdown",
   "id": "31dfe5d4",
   "metadata": {},
   "source": [
    "### power of a statistical test"
   ]
  },
  {
   "cell_type": "markdown",
   "id": "d6efa55b",
   "metadata": {},
   "source": [
    "The power of a statistical test is the probability of correctly rejecting the null hypothesis when the alternative hypothesis is true. "
   ]
  },
  {
   "cell_type": "markdown",
   "id": "1a89912b",
   "metadata": {},
   "source": [
    "The power of a test is influenced by several factors, including the sample size, the effect size, the alpha level (significance level), and the variability of the data."
   ]
  },
  {
   "cell_type": "markdown",
   "id": "9c32af87",
   "metadata": {},
   "source": [
    " larger sample size, a larger effect size, a lower alpha level, and a lower variability of the data all increase the power of the test."
   ]
  },
  {
   "cell_type": "markdown",
   "id": "e1be9a0a",
   "metadata": {},
   "source": [
    "### T-test:"
   ]
  },
  {
   "cell_type": "markdown",
   "id": "d71f8785",
   "metadata": {},
   "source": [
    "s a statistical hypothesis test used to compare the means of two samples. It is a parametric test that assumes the data follows a normal distribution and the variance of the two groups being compared is equal."
   ]
  },
  {
   "cell_type": "markdown",
   "id": "4098adb9",
   "metadata": {},
   "source": [
    "example"
   ]
  },
  {
   "cell_type": "markdown",
   "id": "4c8a5645",
   "metadata": {},
   "source": [
    "Suppose you want to test whether a new weight loss pill is effective in helping people lose weight. You randomly select 50 overweight individuals and give the pill to 25 of them while the other 25 receive a placebo. After 8 weeks, you measure the weight loss of each individual and record the data."
   ]
  },
  {
   "cell_type": "markdown",
   "id": "9cfb9fc0",
   "metadata": {},
   "source": [
    "you can perform a t-test on the two groups' weight loss data. \n"
   ]
  },
  {
   "cell_type": "markdown",
   "id": "62047772",
   "metadata": {},
   "source": [
    "The null hypothesis is that there is no difference in weight loss between the two groups"
   ]
  },
  {
   "cell_type": "markdown",
   "id": "d1eda73b",
   "metadata": {},
   "source": [
    "The alternative hypothesis is that the weight loss pill results in more weight loss than the placebo."
   ]
  },
  {
   "cell_type": "markdown",
   "id": "b700e60a",
   "metadata": {},
   "source": [
    "The t-statistic is calculated as follows:\n",
    "t = (x̄1 - x̄2) / (s / sqrt(n))"
   ]
  },
  {
   "cell_type": "markdown",
   "id": "583418e4",
   "metadata": {},
   "source": [
    "If the t-statistic is large enough, you can reject the null hypothesis and conclude that the weight loss pill is effective. "
   ]
  },
  {
   "cell_type": "markdown",
   "id": "57377fe1",
   "metadata": {},
   "source": [
    "#### types of t test"
   ]
  },
  {
   "cell_type": "markdown",
   "id": "bdc07481",
   "metadata": {},
   "source": [
    "One-sample t-test: This type of t-test is used when a company wants to test whether a certain characteristic of a product or service meets a certain standard or benchmark."
   ]
  },
  {
   "cell_type": "markdown",
   "id": "a6877242",
   "metadata": {},
   "source": [
    "whether the mean IQ of a sample of students is significantly different from the population mean IQ of 100."
   ]
  },
  {
   "cell_type": "markdown",
   "id": "4c3b7257",
   "metadata": {},
   "source": [
    "Independent samples t-test: This type of t-test is used when a company wants to compare the performance of two groups of employees or customers, or two different products or services."
   ]
  },
  {
   "cell_type": "markdown",
   "id": "4724635b",
   "metadata": {},
   "source": [
    "Paired samples t-test: This type of t-test is used when a company wants to test whether there is a significant difference between two sets of data that are related , such as before and after measurements of a product or service."
   ]
  },
  {
   "cell_type": "markdown",
   "id": "6c219aee",
   "metadata": {},
   "source": [
    "Welch's t-test: This type of t-test is used when the variances of the two groups being compared are unequal."
   ]
  },
  {
   "cell_type": "markdown",
   "id": "af1a49ab",
   "metadata": {},
   "source": [
    "Student's t-test for equal variances: This type of t-test is used when the variances of the two groups being compared are equal."
   ]
  },
  {
   "cell_type": "markdown",
   "id": "61585b0c",
   "metadata": {},
   "source": [
    "####  T value"
   ]
  },
  {
   "cell_type": "markdown",
   "id": "6539d4ba",
   "metadata": {},
   "source": [
    "The t-value is the calculated value of the t-statistic, which measures the difference between the sample mean and the null hypothesis mean in terms of standard error units."
   ]
  },
  {
   "cell_type": "markdown",
   "id": "db609844",
   "metadata": {},
   "source": [
    "A negative t-value in a t-test indicates that the sample mean is lower than the null hypothesis mean."
   ]
  },
  {
   "cell_type": "markdown",
   "id": "086aec01",
   "metadata": {},
   "source": [
    "A large t-value indicates a strong difference between the means and provides more evidence against the null hypothesis, making it more likely to be rejected. "
   ]
  },
  {
   "cell_type": "markdown",
   "id": "e936b1a6",
   "metadata": {},
   "source": [
    "larger t-value indicates that the difference between the means is likely to have due to change process"
   ]
  },
  {
   "cell_type": "markdown",
   "id": "9701468c",
   "metadata": {},
   "source": [
    "A small t-value indicates a weaker difference between the means and may not provide enough evidence to reject the null hypothesis."
   ]
  },
  {
   "cell_type": "markdown",
   "id": "d42d3935",
   "metadata": {},
   "source": [
    "A small t-value, on the other hand, suggests that the difference between the means may be due to chance and is not statistically significant."
   ]
  },
  {
   "cell_type": "markdown",
   "id": "3d425535",
   "metadata": {},
   "source": [
    "As the t-value increases, the critical value decreases, making it easier to reject the null hypothesis."
   ]
  },
  {
   "cell_type": "markdown",
   "id": "341be7d0",
   "metadata": {},
   "source": [
    "### degrees of freedom"
   ]
  },
  {
   "cell_type": "markdown",
   "id": "cb4cb4b7",
   "metadata": {},
   "source": [
    "The degrees of freedom (df) is a measure of the amount of information available in the data. It is calculated as n-1, where n is the sample size. In this case, the df value is 19."
   ]
  },
  {
   "cell_type": "markdown",
   "id": "51c3e93f",
   "metadata": {},
   "source": [
    "As the degrees of freedom increase, the t-distribution becomes narrower and more concentrated around the mean making it easier to reject the null hypothesis even for small differences."
   ]
  },
  {
   "cell_type": "markdown",
   "id": "77038464",
   "metadata": {},
   "source": [
    "### p-value"
   ]
  },
  {
   "cell_type": "markdown",
   "id": "fd6c9281",
   "metadata": {},
   "source": [
    "p-value = 0.096: The p-value is the probability of obtaining a t-value as extreme or more extreme than the observed t-value, assuming that the null hypothesis is true. In this case, the p-value is 0.096, which is greater than the typical significance level of 0.05. This means that we can not support alternative hypothisis."
   ]
  },
  {
   "cell_type": "markdown",
   "id": "23fd1edc",
   "metadata": {},
   "source": [
    "9.6 % probability of both groups are similar where they have a difference that is very low so we can state null hypothisis is require."
   ]
  },
  {
   "cell_type": "markdown",
   "id": "5af8572c",
   "metadata": {},
   "source": [
    "The level of significance is typically set to a value between 0 and 1, and represents the maximum probability of rejecting the null hypothesis when it is actually true."
   ]
  },
  {
   "cell_type": "markdown",
   "id": "ed375d80",
   "metadata": {},
   "source": [
    " A commonly used level of significance in scientific research is 0.05, which indicates a 5% probability of rejecting the null hypothesis when it is actually true."
   ]
  },
  {
   "cell_type": "markdown",
   "id": "fb1a8c3c",
   "metadata": {},
   "source": [
    "In R, you can conduct a t-test by using the t.test() function. To set the p-value for the test, you can use the conf.level argument, which specifies the confidence level of the interval. By default, this argument is set to conf.level = 0.95, which corresponds to a two-tailed test with a significance level of alpha = 0.05."
   ]
  },
  {
   "cell_type": "markdown",
   "id": "74719424",
   "metadata": {},
   "source": [
    " ##### large t-value with a small degrees of freedom and a low level of significance (i.e., high p-value) may not be sufficient to reject the null hypothesis."
   ]
  },
  {
   "cell_type": "markdown",
   "id": "6434ceae",
   "metadata": {},
   "source": [
    "####  small t-value with a large degrees of freedom and a high level of significance (i.e., a low p-value) can provide enough evidence to reject the null hypothesis "
   ]
  },
  {
   "cell_type": "markdown",
   "id": "13969f36",
   "metadata": {},
   "source": [
    "#### One-sample t-test"
   ]
  },
  {
   "cell_type": "markdown",
   "id": "ced05b36",
   "metadata": {},
   "source": [
    "Suppose you have a sample of 20 observations, and you want to test whether the mean of the sample is significantly different from a population mean of 50."
   ]
  },
  {
   "cell_type": "code",
   "execution_count": 1,
   "id": "c087552c",
   "metadata": {},
   "outputs": [
    {
     "data": {
      "text/html": [
       "653.5"
      ],
      "text/latex": [
       "653.5"
      ],
      "text/markdown": [
       "653.5"
      ],
      "text/plain": [
       "[1] 653.5"
      ]
     },
     "metadata": {},
     "output_type": "display_data"
    },
    {
     "data": {
      "text/plain": [
       "\n",
       "\tOne Sample t-test\n",
       "\n",
       "data:  data\n",
       "t = 1.086, df = 19, p-value = 0.2911\n",
       "alternative hypothesis: true mean is not equal to 50\n",
       "95 percent confidence interval:\n",
       " -509.6148 1816.6148\n",
       "sample estimates:\n",
       "mean of x \n",
       "    653.5 \n"
      ]
     },
     "metadata": {},
     "output_type": "display_data"
    }
   ],
   "source": [
    "data <- c(5, 48, 52, 47, 12, 10, 53, 54, 47, 50, 1239, 46, 4, 0, 49, 52, 51, 48, 11150, 53)\n",
    "mean <- mean(data);mean\n",
    "sd <- sd(data)\n",
    "t.test(data, mu = 50)\n",
    "#The mu argument specifies the population mean to be tested against. "
   ]
  },
  {
   "cell_type": "markdown",
   "id": "d0d5b778",
   "metadata": {},
   "source": [
    "As P low null go so p-value, The p-value in this example is 0.002786, which is less than the typical significance level of 0.05, indicating that the sample mean is significantly different from the population mean of 50.(alternative hypothesis: true mean is not equal to 50)"
   ]
  },
  {
   "cell_type": "markdown",
   "id": "c5db8a26",
   "metadata": {},
   "source": [
    "### Independent samples t-test"
   ]
  },
  {
   "cell_type": "markdown",
   "id": "a53c66a3",
   "metadata": {},
   "source": [
    "Suppose you have two groups of data, and you want to test whether the means of the two groups are significantly different. Let's call the groups \"Group 1\" and \"Group 2\"."
   ]
  },
  {
   "cell_type": "code",
   "execution_count": 7,
   "id": "a087bb28",
   "metadata": {},
   "outputs": [
    {
     "data": {
      "text/plain": [
       "\n",
       "\tWelch Two Sample t-test\n",
       "\n",
       "data:  group1 and group2\n",
       "t = -1.7002, df = 10.828, p-value = 0.9412\n",
       "alternative hypothesis: true difference in means is greater than 0\n",
       "95 percent confidence interval:\n",
       " -7.819783       Inf\n",
       "sample estimates:\n",
       "mean of x mean of y \n",
       "      9.0      12.8 \n"
      ]
     },
     "metadata": {},
     "output_type": "display_data"
    }
   ],
   "source": [
    "group1 <- c(10, 12, 14, 6, 18,4,5,6,6)\n",
    "group2 <- c(8, 11, 13, 15, 17)\n",
    "t.test(group1, group2,alternative = \"greater\", conf.level = 0.95)"
   ]
  },
  {
   "cell_type": "markdown",
   "id": "e5fc3970",
   "metadata": {},
   "source": [
    "In this example, mu is the hypothesized mean, alternative specifies the alternative hypothesis, and conf.level is set to 0.99 to achieve a p-value of 0.01."
   ]
  },
  {
   "cell_type": "code",
   "execution_count": 6,
   "id": "fd2ac70c",
   "metadata": {},
   "outputs": [
    {
     "data": {
      "text/html": [
       "0.05"
      ],
      "text/latex": [
       "0.05"
      ],
      "text/markdown": [
       "0.05"
      ],
      "text/plain": [
       "[1] 0.05"
      ]
     },
     "metadata": {},
     "output_type": "display_data"
    }
   ],
   "source": [
    "1 - 0.95"
   ]
  },
  {
   "cell_type": "markdown",
   "id": "720e1df8",
   "metadata": {},
   "source": [
    "alternative hypothesis: true difference in means is not equal to 0"
   ]
  },
  {
   "cell_type": "markdown",
   "id": "d626d1a4",
   "metadata": {},
   "source": [
    "The p-value in this example is 0.1176, which is greater than the typical significance level of 0.05, indicating that there is not enough evidence to reject the null hypothesis that the means of the two groups are equal."
   ]
  },
  {
   "cell_type": "markdown",
   "id": "fe2406f4",
   "metadata": {},
   "source": [
    "### Paired samples t-test"
   ]
  },
  {
   "cell_type": "code",
   "execution_count": null,
   "id": "1b07d472",
   "metadata": {},
   "outputs": [],
   "source": [
    "Suppose we have the following dataset representing the weights of 10 individuals before and after a weight loss program"
   ]
  },
  {
   "cell_type": "code",
   "execution_count": 10,
   "id": "ed6e7e88",
   "metadata": {},
   "outputs": [],
   "source": [
    "before <- c(150, 160, 170, 180, 190, 200, 210, 220, 230, 240)\n",
    "after <- c(125, 105, 16, 175, 185, 195, 25, 25, 225, 25)\n"
   ]
  },
  {
   "cell_type": "markdown",
   "id": "824d3c79",
   "metadata": {},
   "source": [
    "To conduct a paired samples t-test to determine if there is a significant difference in weight before and after the weight loss program"
   ]
  },
  {
   "cell_type": "code",
   "execution_count": 12,
   "id": "0b40e727",
   "metadata": {},
   "outputs": [
    {
     "data": {
      "text/plain": [
       "\n",
       "\tPaired t-test\n",
       "\n",
       "data:  before and after\n",
       "t = 2.9636, df = 9, p-value = 0.007933\n",
       "alternative hypothesis: true difference in means is greater than 0\n",
       "98 percent confidence interval:\n",
       " 16.19077      Inf\n",
       "sample estimates:\n",
       "mean of the differences \n",
       "                   84.9 \n"
      ]
     },
     "metadata": {},
     "output_type": "display_data"
    }
   ],
   "source": [
    "t.test(before, after, paired = TRUE,alternative = \"greater\", conf.level = 0.98)"
   ]
  },
  {
   "cell_type": "markdown",
   "id": "af8c06a0",
   "metadata": {},
   "source": [
    "The p-value of 0.007933 indicates that there is a significant difference between the heights before and after the treatment at a 0.05 level of significance"
   ]
  },
  {
   "cell_type": "markdown",
   "id": "f0d49929",
   "metadata": {},
   "source": [
    "### Welch's t-test:"
   ]
  },
  {
   "cell_type": "code",
   "execution_count": null,
   "id": "a8bd7745",
   "metadata": {},
   "outputs": [],
   "source": [
    "Suppose we have two independent datasets, representing the heights of two groups of individuals:"
   ]
  },
  {
   "cell_type": "code",
   "execution_count": 14,
   "id": "fad41ed0",
   "metadata": {},
   "outputs": [],
   "source": [
    "group1 <- c(170, 165, 172, 177, 168, 180, 175, 170, 174, 169)\n",
    "group2 <- c(180, 172, 178, 173, 186, 168, 175, 182, 170, 179, 180, 177, 183)"
   ]
  },
  {
   "cell_type": "markdown",
   "id": "507445b5",
   "metadata": {},
   "source": [
    "To conduct Welch's t-test to determine if there is a significant difference in height between the two groups, "
   ]
  },
  {
   "cell_type": "code",
   "execution_count": 14,
   "id": "cbc2601a",
   "metadata": {},
   "outputs": [
    {
     "data": {
      "text/plain": [
       "\n",
       "\tWelch Two Sample t-test\n",
       "\n",
       "data:  group1 and group2\n",
       "t = -1.7002, df = 10.828, p-value = 0.9412\n",
       "alternative hypothesis: true difference in means is greater than 0\n",
       "95 percent confidence interval:\n",
       " -7.819783       Inf\n",
       "sample estimates:\n",
       "mean of x mean of y \n",
       "      9.0      12.8 \n"
      ]
     },
     "metadata": {},
     "output_type": "display_data"
    }
   ],
   "source": [
    "# Conduct Welch's t-test\n",
    "t.test(group1, group2, var.equal = FALSE,alternative = \"greater\", conf.level = 0.95)"
   ]
  },
  {
   "cell_type": "markdown",
   "id": "52ceba9e",
   "metadata": {},
   "source": [
    " The confidence interval of (-6.4913389, 0.5913389) indicates that the true difference in means could range from negative to positive values, but includes 0, which supports the conclusion that there is no significant difference between the two groups."
   ]
  },
  {
   "cell_type": "markdown",
   "id": "b8810555",
   "metadata": {},
   "source": [
    "The p-value of 0.07996 indicates that there is not a significant difference in height between the two groups at a 0.05 level of significance."
   ]
  },
  {
   "cell_type": "markdown",
   "id": "1641f913",
   "metadata": {},
   "source": [
    "### Student's t-test for equal variances:"
   ]
  },
  {
   "cell_type": "code",
   "execution_count": 15,
   "id": "f3ca5eb3",
   "metadata": {},
   "outputs": [
    {
     "data": {
      "text/plain": [
       "\n",
       "\tTwo Sample t-test\n",
       "\n",
       "data:  group1 and group2\n",
       "t = 0.85661, df = 18, p-value = 0.4029\n",
       "alternative hypothesis: true difference in means is not equal to 0\n",
       "95 percent confidence interval:\n",
       " -1.016825  2.416825\n",
       "sample estimates:\n",
       "mean of x mean of y \n",
       "     12.2      11.5 \n"
      ]
     },
     "metadata": {},
     "output_type": "display_data"
    }
   ],
   "source": [
    "# Create example data\n",
    "group1 <- c(9, 12, 13, 15, 11, 10, 14, 11, 15, 12)\n",
    "group2 <- c(10, 9, 11, 13, 12, 10, 14, 13, 11, 12)\n",
    "result <- t.test(group1, group2, var.equal = TRUE,conf.level = 0.95);result\n"
   ]
  },
  {
   "cell_type": "markdown",
   "id": "3ef78ead",
   "metadata": {},
   "source": [
    "We can see that the t-statistic is -0.70711 and the p-value is 0.4895. Because the p-value is greater than our chosen significance level (let's say 0.05), we fail to reject the null hypothesis that the true means of the two groups are equa"
   ]
  },
  {
   "cell_type": "markdown",
   "id": "2a6ac791",
   "metadata": {},
   "source": [
    "#### Guide"
   ]
  },
  {
   "cell_type": "markdown",
   "id": "e40c6bf7",
   "metadata": {},
   "source": [
    "In hypothesis testing, we compare the p-value at the significance level (alpha) to determine whether to reject or fail to reject the null hypothesis."
   ]
  },
  {
   "cell_type": "code",
   "execution_count": null,
   "id": "06ad2ecf",
   "metadata": {},
   "outputs": [],
   "source": []
  },
  {
   "cell_type": "markdown",
   "id": "b20d89e4",
   "metadata": {},
   "source": [
    "### Powe of test two-sample t-test"
   ]
  },
  {
   "cell_type": "markdown",
   "id": "5bf09dcc",
   "metadata": {},
   "source": [
    "The power of a t-test is the probability of correctly rejecting the null hypothesis when the alternative hypothesis is true."
   ]
  },
  {
   "cell_type": "code",
   "execution_count": 17,
   "id": "71d3ce1d",
   "metadata": {},
   "outputs": [
    {
     "data": {
      "text/plain": [
       "\n",
       "     Two-sample t test power calculation \n",
       "\n",
       "              n = 50\n",
       "          delta = 0.5\n",
       "             sd = 1\n",
       "      sig.level = 0.05\n",
       "          power = 0.6968888\n",
       "    alternative = two.sided\n",
       "\n",
       "NOTE: n is number in *each* group\n"
      ]
     },
     "metadata": {},
     "output_type": "display_data"
    }
   ],
   "source": [
    "power.t.test(n = 50, delta = 0.5, sd = 1, sig.level = 0.05, power = NULL)"
   ]
  },
  {
   "cell_type": "markdown",
   "id": "87db81b1",
   "metadata": {},
   "source": [
    "n: the sample size for each group\n",
    "\n"
   ]
  },
  {
   "cell_type": "markdown",
   "id": "77f6edda",
   "metadata": {},
   "source": [
    "delta: the effect size (difference between means divided by the standard deviation) :The effect size is a quantitative measure of the magnitude or strength of the relationship between two variables or the difference between two groups in a study."
   ]
  },
  {
   "cell_type": "markdown",
   "id": "314386a4",
   "metadata": {},
   "source": [
    "Cohen's d: This is a standardized measure of the difference between the means of two groups, expressed in terms of the pooled standard deviation. It is commonly used for comparing the means of two groups in a t-test or ANOVA."
   ]
  },
  {
   "cell_type": "code",
   "execution_count": null,
   "id": "e858afa3",
   "metadata": {},
   "outputs": [],
   "source": [
    "sd: the standard deviation of the data"
   ]
  },
  {
   "cell_type": "code",
   "execution_count": null,
   "id": "0dc1332f",
   "metadata": {},
   "outputs": [],
   "source": [
    "sig.level: the significance level (alpha)"
   ]
  },
  {
   "cell_type": "code",
   "execution_count": null,
   "id": "dade3183",
   "metadata": {},
   "outputs": [],
   "source": [
    "power: the desired power (default is 0.8)"
   ]
  },
  {
   "cell_type": "markdown",
   "id": "615e5be2",
   "metadata": {},
   "source": [
    "\n",
    "## Chi-squared test:"
   ]
  },
  {
   "cell_type": "markdown",
   "id": "bc62f1b8",
   "metadata": {},
   "source": [
    "The chi-squared test is a statistical test used to determine if there is a significant association between two categorical variables. It is used to analyze count data, which is data that can be organized into categories and has a numerical value associated with each category. The test compares the observed frequencies of the categories with the expected frequencies under the assumption of no association between the variables."
   ]
  },
  {
   "cell_type": "markdown",
   "id": "5c4d9dbc",
   "metadata": {},
   "source": [
    "chi-squared tests use the chi-squared distribution to calculate the p-value. The chi-squared distribution is a probability distribution that is used to model the sum of squared deviations of a set of normally distributed variables. "
   ]
  },
  {
   "cell_type": "markdown",
   "id": "4a171a78",
   "metadata": {},
   "source": [
    "This test is used to test the variance of a normally distributed population. "
   ]
  },
  {
   "cell_type": "markdown",
   "id": "eb9554b7",
   "metadata": {},
   "source": [
    "This test can be used to test whether there is a relationship between two categorical variables, including proportions."
   ]
  },
  {
   "cell_type": "markdown",
   "id": "1b3f13a4",
   "metadata": {},
   "source": [
    "This test is used to determine if there is a significant difference between the observed and expected frequencies of a categorical variable."
   ]
  },
  {
   "cell_type": "markdown",
   "id": "7f4c3339",
   "metadata": {},
   "source": [
    "This test can be used to test for randomness in a sequence of categorical data (i.e. data that takes on more than two values)."
   ]
  },
  {
   "cell_type": "markdown",
   "id": "743a637f",
   "metadata": {},
   "source": [
    "### types of Chi-squared test"
   ]
  },
  {
   "cell_type": "markdown",
   "id": "a89d77f8",
   "metadata": {},
   "source": [
    "Goodness-of-fit test:\n",
    "The goodness-of-fit test is used to determine if an observed frequency distribution fits a theoretical or expected frequency distribution."
   ]
  },
  {
   "cell_type": "markdown",
   "id": "7601c8e5",
   "metadata": {},
   "source": [
    "This type of test is often used to determine if a sample of data comes from a population with a specific distribution."
   ]
  },
  {
   "cell_type": "markdown",
   "id": "b15fcb54",
   "metadata": {},
   "source": [
    "The test of independence : is used to determine if there is a significant association between two categorical variables."
   ]
  },
  {
   "cell_type": "markdown",
   "id": "42cd3114",
   "metadata": {},
   "source": [
    "This type of test is often used to analyze data from a contingency table,"
   ]
  },
  {
   "cell_type": "markdown",
   "id": "f36292cb",
   "metadata": {},
   "source": [
    "table that summarizes the frequencies of the different combinations of categories of the two variables."
   ]
  },
  {
   "cell_type": "markdown",
   "id": "1aada26f",
   "metadata": {},
   "source": [
    "### X-squarae"
   ]
  },
  {
   "cell_type": "markdown",
   "id": "1ccc2b38",
   "metadata": {},
   "source": [
    "In the context of a chi-squared test, the X-squared (χ²) value is a statistic that measures the difference between the expected frequencies and the observed frequencies in a contingency table."
   ]
  },
  {
   "cell_type": "markdown",
   "id": "dc7266a1",
   "metadata": {},
   "source": [
    "##### observed frequencies"
   ]
  },
  {
   "cell_type": "markdown",
   "id": "c4e71eab",
   "metadata": {},
   "source": [
    "The observed frequencies are the actual frequencies of occurrence of a categorical variable in a sample or population. For example, if you conducted a survey asking people to indicate their favorite color, the observed frequencies would be the number of responses in each category, such as red, blue, green, etc.\n",
    "\n"
   ]
  },
  {
   "cell_type": "markdown",
   "id": "fa826e6f",
   "metadata": {},
   "source": [
    "##### expected frequencies "
   ]
  },
  {
   "cell_type": "markdown",
   "id": "ce11e0fd",
   "metadata": {},
   "source": [
    "The expected frequencies are the frequencies that would be expected to occur in each category of a categorical variable under a specific theoretical distribution or null hypothesis. For example, if you were testing whether the distribution of favorite colors in a population follows a uniform distribution"
   ]
  },
  {
   "cell_type": "markdown",
   "id": "2b70f7f2",
   "metadata": {},
   "source": [
    "In general, a larger X-squared value indicates a greater deviation between the observed and expected frequencies, which may be evidence against the null hypothesis."
   ]
  },
  {
   "cell_type": "markdown",
   "id": "ee57dac6",
   "metadata": {},
   "source": [
    " is calculated as the sum of the squared differences between the observed and expected frequencies, divided by the expected frequencies."
   ]
  },
  {
   "cell_type": "markdown",
   "id": "9dedb7c2",
   "metadata": {},
   "source": [
    "The X-squared value is then compared to a critical value from the chi-squared distribution with a certain number of degrees of freedom (df)."
   ]
  },
  {
   "cell_type": "markdown",
   "id": "d0d81474",
   "metadata": {},
   "source": [
    "#### DOF"
   ]
  },
  {
   "cell_type": "markdown",
   "id": "c9cce3ab",
   "metadata": {},
   "source": [
    "The degrees of freedom for a chi-squared test depend on the number of rows and columns in the contingency table, and are calculated as (number of rows - 1) * (number of columns - 1)."
   ]
  },
  {
   "cell_type": "markdown",
   "id": "1c3373b5",
   "metadata": {},
   "source": [
    "If the X-squared value is greater than the critical value from the chi-squared distribution, we reject the null hypothesis and conclude that there is a significant difference between the expected frequencies and the observed frequencies. "
   ]
  },
  {
   "cell_type": "markdown",
   "id": "d2c43ee3",
   "metadata": {},
   "source": [
    "#### p-value"
   ]
  },
  {
   "cell_type": "markdown",
   "id": "4a091236",
   "metadata": {},
   "source": [
    "The p-value associated with the X-squared value and degrees of freedom can also be used to determine the level of significance of the test."
   ]
  },
  {
   "cell_type": "markdown",
   "id": "8ef07c6a",
   "metadata": {},
   "source": [
    "### Goodness-of-fit test chi square"
   ]
  },
  {
   "cell_type": "markdown",
   "id": "dffca74c",
   "metadata": {},
   "source": [
    "The chi-square goodness-of-fit test is based on the chi-square distribution, which is a continuous probability distribution that arises in the context of hypothesis testing."
   ]
  },
  {
   "cell_type": "code",
   "execution_count": 50,
   "id": "5e9d27fb",
   "metadata": {},
   "outputs": [],
   "source": [
    "observed_counts<- c(24, 35, 566)"
   ]
  },
  {
   "cell_type": "markdown",
   "id": "7ad97ea7",
   "metadata": {},
   "source": [
    "We want to test whether these observed counts follow a uniform distribution, where each category has an equal probability of occurring. The expected counts for a uniform distribution can be calculated as:"
   ]
  },
  {
   "cell_type": "code",
   "execution_count": 51,
   "id": "4bdeac05",
   "metadata": {},
   "outputs": [],
   "source": [
    "expected_probs <- c(0.2, 0.3, 0.5)"
   ]
  },
  {
   "cell_type": "code",
   "execution_count": 52,
   "id": "a02226f2",
   "metadata": {},
   "outputs": [
    {
     "data": {
      "text/html": [
       "1"
      ],
      "text/latex": [
       "1"
      ],
      "text/markdown": [
       "1"
      ],
      "text/plain": [
       "[1] 1"
      ]
     },
     "metadata": {},
     "output_type": "display_data"
    }
   ],
   "source": [
    "sum(0.1, 0.4, 0.5)"
   ]
  },
  {
   "cell_type": "code",
   "execution_count": 53,
   "id": "baf996da",
   "metadata": {},
   "outputs": [
    {
     "data": {
      "text/plain": [
       "\n",
       "\tChi-squared test for given probabilities\n",
       "\n",
       "data:  observed_counts\n",
       "X-squared = 411.28, df = 2, p-value < 2.2e-16\n"
      ]
     },
     "metadata": {},
     "output_type": "display_data"
    }
   ],
   "source": [
    "chisq.test(observed_counts, p = expected_probs)"
   ]
  },
  {
   "cell_type": "markdown",
   "id": "ed15a7b1",
   "metadata": {},
   "source": [
    "X-squared: In a chi-square goodness-of-fit test, the X-squared statistic is used to test whether a set of observed categorical data is consistent with a specified theoretical distribution."
   ]
  },
  {
   "cell_type": "markdown",
   "id": "e07d5143",
   "metadata": {},
   "source": [
    "This result indicates that the observed frequencies in the data do not differ significantly from the expected frequencies under the null hypothesis. A p-value of 1 means that there is no evidence to reject the null hypothesis and we can conclude that the observed frequencies are consistent with the expected frequencies."
   ]
  },
  {
   "cell_type": "markdown",
   "id": "872436ff",
   "metadata": {},
   "source": [
    "If the p-value of a chi-squared goodness-of-fit test in R is greater than 0.05, it means that we fail to reject the null hypothesis"
   ]
  },
  {
   "cell_type": "markdown",
   "id": "c213943d",
   "metadata": {},
   "source": [
    "### Note"
   ]
  },
  {
   "cell_type": "markdown",
   "id": "723be0bd",
   "metadata": {},
   "source": [
    "It's important to note that the X-squared value should not be used in isolation to interpret the results of a chi-squared goodness-of-fit test. It should be used in conjunction with the p-value, degrees of freedom, and effect size"
   ]
  },
  {
   "cell_type": "markdown",
   "id": "6e7e6b1f",
   "metadata": {},
   "source": [
    "### The test of independence "
   ]
  },
  {
   "cell_type": "markdown",
   "id": "ce0fb083",
   "metadata": {},
   "source": [
    "contingency table"
   ]
  },
  {
   "cell_type": "markdown",
   "id": "0d2279b8",
   "metadata": {},
   "source": [
    "A contingency table is a table that displays the frequencies of two or more categorical variables in a cross-tabulated format. The table is used to summarize the relationship between the variables and provides a way to visualize the distribution of observations across the categories."
   ]
  },
  {
   "cell_type": "code",
   "execution_count": 54,
   "id": "43652c16",
   "metadata": {},
   "outputs": [
    {
     "ename": "ERROR",
     "evalue": "Error in table(gender, voting_preference): object 'gender' not found\n",
     "output_type": "error",
     "traceback": [
      "Error in table(gender, voting_preference): object 'gender' not found\nTraceback:\n",
      "1. table(gender, voting_preference)"
     ]
    }
   ],
   "source": [
    "# Create a contingency table of observed frequencies\n",
    "observed <- table(gender, voting_preference)"
   ]
  },
  {
   "cell_type": "code",
   "execution_count": 57,
   "id": "0d52a43f",
   "metadata": {},
   "outputs": [],
   "source": [
    "mydata <- data.frame(\n",
    "                     gender = c(\"Male\",\"Female\", \"Male\", \"Female\",\"Male\", \"Female\",\"Male\"),\n",
    "                     looks = c(\"sexy\", \"notsexy\", \"agly\",\"sexy\",\"sexy\", \"not sexy\",\"agly\"))"
   ]
  },
  {
   "cell_type": "code",
   "execution_count": 59,
   "id": "3b922d93",
   "metadata": {},
   "outputs": [
    {
     "data": {
      "text/plain": [
       "        \n",
       "         agly not sexy sexy\n",
       "  Female    0        2    1\n",
       "  Male      2        0    2"
      ]
     },
     "metadata": {},
     "output_type": "display_data"
    }
   ],
   "source": [
    "mytable <- table(mydata$gender, mydata$looks);mytable"
   ]
  },
  {
   "cell_type": "code",
   "execution_count": 61,
   "id": "75987384",
   "metadata": {},
   "outputs": [
    {
     "name": "stderr",
     "output_type": "stream",
     "text": [
      "Warning message in chisq.test(mytable):\n",
      "\"Chi-squared approximation may be incorrect\"\n"
     ]
    },
    {
     "data": {
      "text/plain": [
       "\n",
       "\tPearson's Chi-squared test\n",
       "\n",
       "data:  mytable\n",
       "X-squared = 4.2778, df = 2, p-value = 0.1178\n"
      ]
     },
     "metadata": {},
     "output_type": "display_data"
    }
   ],
   "source": [
    "# Perform the chi-squared test of independence\n",
    "result <- chisq.test(mytable);result "
   ]
  },
  {
   "cell_type": "markdown",
   "id": "9c1ccf08",
   "metadata": {},
   "source": [
    " In a chi-square test of independence, the X-squared statistic is used to test whether two categorical variables are independent of each other."
   ]
  },
  {
   "cell_type": "code",
   "execution_count": null,
   "id": "4dc3e997",
   "metadata": {},
   "outputs": [],
   "source": [
    "No enough evidance found to reject null hypotisis ,two categorical values are independent "
   ]
  },
  {
   "cell_type": "markdown",
   "id": "d1fc300c",
   "metadata": {},
   "source": [
    "### Powe of X-squared"
   ]
  },
  {
   "cell_type": "code",
   "execution_count": null,
   "id": "4efc46e4",
   "metadata": {},
   "outputs": [],
   "source": [
    "(tomorrow)"
   ]
  },
  {
   "cell_type": "code",
   "execution_count": 6,
   "id": "42ce5d2c",
   "metadata": {},
   "outputs": [
    {
     "ename": "ERROR",
     "evalue": "Error in pwr.chisq.test(w = effect.size, df = df, sig.level = alpha): exactly one of w, N, df, power, and sig.level must be NULL\n",
     "output_type": "error",
     "traceback": [
      "Error in pwr.chisq.test(w = effect.size, df = df, sig.level = alpha): exactly one of w, N, df, power, and sig.level must be NULL\nTraceback:\n",
      "1. pwr.chisq.test(w = effect.size, df = df, sig.level = alpha)",
      "2. stop(\"exactly one of w, N, df, power, and sig.level must be NULL\")"
     ]
    }
   ],
   "source": [
    " effect.size <- 0.3\n",
    "df <- 1\n",
    "alpha <- 0.05\n",
    "\n",
    "# Calculate the sample size or power using the pwr.chisq.test() function\n",
    "library(pwr)\n",
    "result <- pwr.chisq.test(w = effect.size, df = df, sig.level = alpha)\n",
    "result\n"
   ]
  },
  {
   "cell_type": "code",
   "execution_count": null,
   "id": "cfd1f9c7",
   "metadata": {},
   "outputs": [],
   "source": []
  },
  {
   "cell_type": "code",
   "execution_count": null,
   "id": "78e85b8f",
   "metadata": {},
   "outputs": [],
   "source": [
    "######Tomorrow##############################################################"
   ]
  },
  {
   "cell_type": "markdown",
   "id": "eeb73710",
   "metadata": {},
   "source": [
    "### ANOVA"
   ]
  },
  {
   "cell_type": "markdown",
   "id": "1ccc3fed",
   "metadata": {},
   "source": [
    "Analysis of variance (ANOVA) is a statistical test used to compare the means of three or more groups."
   ]
  },
  {
   "cell_type": "markdown",
   "id": "4be7eb2d",
   "metadata": {},
   "source": [
    "### Types of Anova"
   ]
  },
  {
   "cell_type": "markdown",
   "id": "de2e8b70",
   "metadata": {},
   "source": [
    "One-Way ANOVA: This type of ANOVA is used to compare the means of three or more independent groups. One-way ANOVA examines only one independent variable (factor) at a time."
   ]
  },
  {
   "cell_type": "markdown",
   "id": "23cf7078",
   "metadata": {},
   "source": [
    "Suppose a company wants to compare the productivity of its employees across three different departments. The company has collected data on the number of tasks completed by each employee in each department over a week."
   ]
  },
  {
   "cell_type": "markdown",
   "id": "24ca1515",
   "metadata": {},
   "source": [
    "Two-Way ANOVA: This type of ANOVA is used to examine the effects of two independent variables (factors) on a dependent variable. For example, if we want to test the effect of both gender and age on a test score, we can use a two-way ANOVA."
   ]
  },
  {
   "cell_type": "markdown",
   "id": "f72b31c0",
   "metadata": {},
   "source": [
    "MANOVA (Multivariate Analysis of Variance): This type of ANOVA is used when we have two or more dependent variables."
   ]
  },
  {
   "cell_type": "markdown",
   "id": "e3e070b8",
   "metadata": {},
   "source": [
    " Unlike ANOVA, which analyzes only one dependent variable at a time, MANOVA analyzes multiple dependent variables simultaneously."
   ]
  },
  {
   "cell_type": "markdown",
   "id": "70d60cbe",
   "metadata": {},
   "source": [
    "Suppose a pharmaceutical company wants to compare the effectiveness of three different drugs on two different measures: blood pressure and heart rate. The company has collected data on these two measures for each patient in each drug group."
   ]
  },
  {
   "cell_type": "markdown",
   "id": "4d504c41",
   "metadata": {},
   "source": [
    "Repeated Measures ANOVA: This type of ANOVA is used when we have repeated measures of the same group. For example, if we want to test the effect of a drug on blood pressure over time, we can use a repeated measures ANOVA."
   ]
  },
  {
   "cell_type": "markdown",
   "id": "575ab636",
   "metadata": {},
   "source": [
    " It is used to test the effects of an independent variable on a dependent variable over time or under different conditions."
   ]
  },
  {
   "cell_type": "markdown",
   "id": "7ecbc784",
   "metadata": {},
   "source": [
    "Mixed-Effects ANOVA: This type of ANOVA is used when we have both fixed and random effects. Fixed effects are variables that we are interested in studying, while random effects are variables that are not of primary interest but are included in the analysis to account for variability in the data."
   ]
  },
  {
   "cell_type": "markdown",
   "id": "9df672d1",
   "metadata": {},
   "source": [
    "the researcher would recruit employees from different departments in a company and randomly assign them to either a training group or a control group. The researcher would measure the employees' job satisfaction levels before and after the training program and collect data on the employees' department affiliation."
   ]
  },
  {
   "cell_type": "code",
   "execution_count": null,
   "id": "f58daa3e",
   "metadata": {},
   "outputs": [],
   "source": []
  }
 ],
 "metadata": {
  "kernelspec": {
   "display_name": "R",
   "language": "R",
   "name": "ir"
  },
  "language_info": {
   "codemirror_mode": "r",
   "file_extension": ".r",
   "mimetype": "text/x-r-source",
   "name": "R",
   "pygments_lexer": "r",
   "version": "4.1.3"
  }
 },
 "nbformat": 4,
 "nbformat_minor": 5
}
